{
 "cells": [
  {
   "cell_type": "code",
   "execution_count": 135,
   "metadata": {
    "collapsed": true
   },
   "outputs": [],
   "source": [
    "import random\n",
    "import numpy as np\n",
    "import matplotlib.pyplot as plt\n",
    "from faker import Faker\n",
    "from datasets import load_dataset, Dataset\n",
    "from transformers import (\n",
    "    AutoTokenizer,\n",
    "    AutoModelForSeq2SeqLM,\n",
    "    Seq2SeqTrainingArguments,\n",
    "    Seq2SeqTrainer\n",
    ")\n",
    "import evaluate\n",
    "fake = Faker()"
   ]
  },
  {
   "cell_type": "code",
   "execution_count": 136,
   "outputs": [],
   "source": [
    "import os\n",
    "os.environ[\"TOKENIZERS_PARALLELISM\"] = \"false\""
   ],
   "metadata": {
    "collapsed": false
   }
  },
  {
   "cell_type": "markdown",
   "source": [
    "# Fine-Tuning CodeT5-small for Commit Message Generation\n",
    "\n",
    "## Introduction\n",
    "\n",
    "After reviewing the available resources, I decided to fine-tune the **CodeT5-small** model for generating commit messages based on commit diffs. CodeT5 is a pre-trained encoder-decoder transformer model designed specifically for code understanding and generation tasks.\n",
    "\n",
    "## Why CodeT5?\n",
    "\n",
    "### CodeT5 Features\n",
    "\n",
    "- **Unified Framework**: CodeT5 is designed to seamlessly support both code understanding and generation tasks. This makes it highly versatile for tasks such as code summarization, commit message generation, and more.\n",
    "\n",
    "- **Identifier-Aware Pre-Training**: CodeT5 introduces a novel pre-training task that allows the model to distinguish code tokens that are identifiers (e.g., variable names, function names). This improves the model’s understanding of the code’s structure, making it particularly suitable for tasks where code semantics play a crucial role, such as generating commit messages based on diffs.\n",
    "\n",
    "- **Multi-Task Learning**: CodeT5 supports multi-task learning, which allows it to handle tasks like PL-NL (Programming Language to Natural Language) and NL-PL (Natural Language to Programming Language) effectively. This is beneficial for generating text from code and vice versa, ensuring high-quality commit messages.\n",
    "\n",
    "### Why CodeT5-small?\n",
    "\n",
    "I chose to use the **CodeT5-small** variant because:\n",
    "- It is a more efficient version of the model while still maintaining strong performance for code-related tasks.\n",
    "- The smaller size allows for faster fine-tuning and deployment, making it ideal for quick iterations and testing in this context.\n",
    "\n",
    "\n",
    "## Fine-Tuning Process\n",
    "\n",
    "In this notebook, I will guide you through the **step-by-step process** of fine-tuning the CodeT5-small model for generating commit messages. The following steps will be covered:\n",
    "1. **Data Preparation**: How to prepare commit diffs and corresponding messages for training.\n",
    "2. **Model Fine-Tuning**: How to train the model on the prepared data.\n",
    "3. **Metrics Evaluation**: Analyzing performance using metrics like BLEU, ROUGE, and METEOR.\n",
    "\n",
    "## Conclusion\n",
    "\n",
    "We will conclude by analyzing the **learning curve** and interpreting the **metric results** to evaluate the model's effectiveness in generating commit messages. Insights from these evaluations will guide us in further improving the model's performance.\n"
   ],
   "metadata": {
    "collapsed": false
   }
  },
  {
   "cell_type": "markdown",
   "source": [
    "# 1. Synthetic Commit Message Generator\n",
    "\n",
    "## Introduction\n",
    "This script generates a synthetic dataset of commit messages using a structured approach. It mimics real-world commit logs from software repositories, making it useful for tasks like training machine learning models on commit message prediction.\n",
    "\n",
    "## How It Works\n",
    "1. **Randomized Patterns**: The commit messages follow predefined patterns based on common commit types (e.g., `feat`, `fix`, `refactor`).\n",
    "2. **Component and Action Selection**: Randomly selects a software component (e.g., `API`, `backend`) and an action (e.g., `add`, `fix`).\n",
    "3. **Feature and Fix Description**: Populates commit messages with specific features, fixes, and refactoring descriptions.\n",
    "4. **Uniqueness Handling**: Introduces variations to prevent duplicate messages.\n",
    "5. **Dataset Creation**: Stores generated messages in a `Hugging Face Dataset` format.\n",
    "\n",
    "## Example Output\n",
    "- `feat(API): add user authentication`\n",
    "- `fix(memory): fix race condition`\n",
    "- `refactor(backend): improve structure`\n",
    "- `test(config): add unit tests`\n",
    "- `docs(logging): update README`\n",
    "\n",
    "## Running the Code\n",
    "Simply execute the function `create_synthetic_commits(1300)`, which generates 1300 commit messages and prints statistics on their uniqueness.\n",
    "\n",
    "### - Total samples: **1300**\n",
    "### - Unique messages: **~1300**\n",
    "### - Most common messages: *(Example: `fix(API): fix memory leak`)*\n",
    "\n",
    "This dataset is useful for **NLP tasks** in software engineering, **commit message completion**, and **automated code summarization**. 🚀\n"
   ],
   "metadata": {
    "collapsed": false
   }
  },
  {
   "cell_type": "code",
   "execution_count": 137,
   "outputs": [
    {
     "name": "stdout",
     "output_type": "stream",
     "text": [
      "Total samples: 1300\n",
      "Unique messages: 1300\n",
      "Most common messages: [('fix(API): performance regression', 1), ('feat(API): update CUDA kernel', 1), ('chore(stream): fix warnings', 1), ('perf(backend): optimize GPU utilization', 1), ('chore(UI): remove deprecated code', 1)]\n"
     ]
    }
   ],
   "source": [
    "import random\n",
    "from faker import Faker\n",
    "from collections import Counter\n",
    "from datasets import Dataset\n",
    "\n",
    "fake = Faker()\n",
    "\n",
    "def create_synthetic_commits(num_samples=1300):\n",
    "    data = {'repo': [], 'diff': [], 'message': []}\n",
    "\n",
    "    patterns = [\n",
    "        (\"feat({component}): {action} {feature}\", ['component', 'action', 'feature']),\n",
    "        (\"fix({component}): {fix_description}\", ['component', 'fix_description']),\n",
    "        (\"refactor({component}): {refactor_action}\", ['component', 'refactor_action']),\n",
    "        (\"docs({component}): {doc_action}\", ['component', 'doc_action']),\n",
    "        (\"test({component}): {test_action}\", ['component', 'test_action']),\n",
    "        (\"perf({component}): optimize {optimized_part}\", ['component', 'optimized_part']),\n",
    "        (\"chore({component}): {maintenance_action}\", ['component', 'maintenance_action']),\n",
    "        (\"build({component}): {build_action}\", ['component', 'build_action']),\n",
    "        (\"ci({component}): {ci_action}\", ['component', 'ci_action'])\n",
    "    ]\n",
    "\n",
    "    components = [\n",
    "        'API', 'database', 'UI', 'backend', 'tests', 'config',\n",
    "        'memory', 'stream', 'cuda', 'ndarray', 'linalg',\n",
    "        'gpu', 'kernel', 'cuda_kernel', 'linear_algebra',\n",
    "        'optimizer', 'autograd', 'quantization', 'parallel',\n",
    "        'multiprocessing', 'tensor_cores', 'memory_pool',\n",
    "        'network', 'security', 'logging', 'serialization'\n",
    "    ]\n",
    "\n",
    "    actions = [\n",
    "        'add', 'remove', 'update', 'implement', 'improve',\n",
    "        'optimize', 'fix', 'correct', 'rewrite', 'restructure',\n",
    "        'enhance', 'extend', 'simplify', 'clean up', 'reorganize',\n",
    "        'migrate', 'deprecate', 'revise', 'upgrade', 'patch'\n",
    "    ]\n",
    "\n",
    "    features = [\n",
    "        'user authentication', 'error handling', 'memory allocation',\n",
    "        'API endpoint', 'database schema', 'test cases',\n",
    "        'CUDA kernel', 'matrix operations', 'parallel processing',\n",
    "        'logging system', 'configuration', 'input validation',\n",
    "        'performance metrics', 'documentation', 'exception handling',\n",
    "        'caching layer', 'data pipeline', 'security checks',\n",
    "        'API gateway', 'load balancing', 'compression'\n",
    "    ]\n",
    "\n",
    "    fix_descriptions = [\n",
    "        'memory leak', 'race condition', 'null pointer dereference',\n",
    "        'buffer overflow', 'incorrect calculation', 'type mismatch',\n",
    "        'deadlock', 'performance regression', 'incorrect API response',\n",
    "        'missing initialization', 'unhandled exception',\n",
    "        'thread safety issue', 'memory corruption', 'off-by-one error',\n",
    "        'resource leak', 'incorrect validation', 'timeout handling'\n",
    "    ]\n",
    "\n",
    "    refactor_actions = [\n",
    "        \"improve structure\", \"simplify logic\", \"remove redundancy\", \"rewrite module\",\n",
    "        \"reorganize functions\", \"split large function\", \"merge duplicate code\"\n",
    "    ]\n",
    "\n",
    "    doc_actions = [\n",
    "        \"update README\", \"add inline comments\", \"improve documentation\",\n",
    "        \"write tutorial\", \"add example usage\", \"clarify function behavior\"\n",
    "    ]\n",
    "\n",
    "    test_actions = [\n",
    "        \"add unit tests\", \"update integration tests\", \"fix flaky test\",\n",
    "        \"increase test coverage\", \"refactor test cases\", \"add benchmark tests\"\n",
    "    ]\n",
    "\n",
    "    optimized_parts = [\n",
    "        \"memory allocation\", \"cache efficiency\", \"GPU utilization\",\n",
    "        \"matrix multiplication\", \"vector operations\", \"parallel execution\"\n",
    "    ]\n",
    "\n",
    "    maintenance_actions = [\n",
    "        \"remove deprecated code\", \"upgrade dependencies\", \"clean up files\",\n",
    "        \"fix warnings\", \"migrate to new framework\", \"update style guide\"\n",
    "    ]\n",
    "\n",
    "    build_actions = [\n",
    "        \"update dependencies\", \"fix build script\", \"add compiler flag\",\n",
    "        \"update Makefile\", \"fix linking error\", \"add CI configuration\"\n",
    "    ]\n",
    "\n",
    "    ci_actions = [\n",
    "        \"fix pipeline\", \"add test stage\", \"optimize workflow\",\n",
    "        \"add deployment\", \"fix artifact upload\", \"add caching\"\n",
    "    ]\n",
    "\n",
    "    # Generate messages\n",
    "    seen_messages = set()\n",
    "\n",
    "    for _ in range(num_samples):\n",
    "        pattern, _ = random.choice(patterns)\n",
    "        component = random.choice(components)\n",
    "\n",
    "        message = pattern.format(\n",
    "            component=component,\n",
    "            action=random.choice(actions),\n",
    "            feature=random.choice(features),\n",
    "            fix_description=random.choice(fix_descriptions),\n",
    "            refactor_action=random.choice(refactor_actions),\n",
    "            doc_action=random.choice(doc_actions),\n",
    "            test_action=random.choice(test_actions),\n",
    "            optimized_part=random.choice(optimized_parts),\n",
    "            maintenance_action=random.choice(maintenance_actions),\n",
    "            build_action=random.choice(build_actions),\n",
    "            ci_action=random.choice(ci_actions)\n",
    "        )\n",
    "\n",
    "        # Introduce randomness to increase uniqueness\n",
    "        if random.random() > 0.8:\n",
    "            message += f\" ({random.choice(['v1', 'v2', 'final', fake.word()])})\"\n",
    "\n",
    "        if message not in seen_messages:\n",
    "            seen_messages.add(message)\n",
    "        else:\n",
    "            # Slight variation if duplicate\n",
    "            message += f\" - {fake.word()}\"\n",
    "\n",
    "        # Store data\n",
    "        data['repo'].append(f\"github/{component.lower()}_{fake.word()}\")\n",
    "        data['diff'].append(f\"diff --git a/src/{component.lower()}/file.c b/src/{component.lower()}/file.c\")\n",
    "        data['message'].append(message)\n",
    "\n",
    "    return Dataset.from_dict(data)\n",
    "\n",
    "# Run and check diversity\n",
    "synthetic_train = create_synthetic_commits(1300)\n",
    "messages = synthetic_train[\"message\"]\n",
    "\n",
    "print(\"Total samples:\", len(messages))\n",
    "print(\"Unique messages:\", len(set(messages)))  # Should be close to 1450\n",
    "print(\"Most common messages:\", Counter(messages).most_common(5))\n"
   ],
   "metadata": {
    "collapsed": false
   }
  },
  {
   "cell_type": "markdown",
   "source": [
    "## 2. Dataset Preparation\n",
    "\n",
    "This section involves creating and splitting the dataset for the project.\n",
    "\n",
    "- **Dataset Creation:**\n",
    "  - The synthetic dataset is generated using the `create_synthetic_commits` function, resulting in a total of 1500 samples.\n",
    "\n",
    "- **Dataset Splitting:**\n",
    "  - The dataset is split into training and test sets using a test size of 20%. This is done with a seed value of 42 to ensure reproducibility.\n",
    "\n",
    "  - **Training Set:**\n",
    "    - Contains 1200 samples (80% of the dataset).\n",
    "\n",
    "  - **Validation Set:**\n",
    "    - Contains 300 samples (20% of the dataset).\n"
   ],
   "metadata": {
    "collapsed": false
   }
  },
  {
   "cell_type": "code",
   "execution_count": 138,
   "outputs": [],
   "source": [
    "synthetic_full = create_synthetic_commits(1500)  # 1500 total samples\n",
    "synthetic_split = synthetic_full.train_test_split(test_size=0.2, seed=42)\n",
    "\n",
    "synthetic_train = synthetic_split[\"train\"]  # 1200 samples (80%)\n",
    "synthetic_val = synthetic_split[\"test\"]  # 300 samples (20%)"
   ],
   "metadata": {
    "collapsed": false
   }
  },
  {
   "cell_type": "markdown",
   "source": [
    "## 3. Model Selection and Loading\n",
    "\n",
    "In this section, we select and load a pre-trained model for fine-tuning on the commit message generation task.\n",
    "\n",
    "- **Model Choice:**\n",
    "  - The model chosen for this task is `Salesforce/codet5-small`. This model is well-suited for code-related tasks, such as generating commit messages.\n",
    "\n",
    "- **Tokenizer and Model Loading:**\n",
    "  - The `AutoTokenizer` and `AutoModelForSeq2SeqLM` are used to load the tokenizer and the model from the pre-trained `Salesforce/codet5-small` checkpoint.\n",
    "  - The tokenizer is responsible for converting text into tokenized input for the model, while the model is used for sequence-to-sequence language modeling.\n",
    "\n"
   ],
   "metadata": {
    "collapsed": false
   }
  },
  {
   "cell_type": "code",
   "execution_count": 139,
   "outputs": [],
   "source": [
    "import torch\n",
    "\n",
    "MODEL_NAME = \"Salesforce/codet5-small\"\n",
    "tokenizer = AutoTokenizer.from_pretrained(MODEL_NAME)\n",
    "model = AutoModelForSeq2SeqLM.from_pretrained(MODEL_NAME)\n"
   ],
   "metadata": {
    "collapsed": false
   }
  },
  {
   "cell_type": "markdown",
   "source": [
    "## 4. Data Preprocessing\n",
    "\n",
    "This section prepares the dataset for model fine-tuning by tokenizing inputs and labels.\n",
    "\n",
    "- **Preprocessing Function:**\n",
    "  - The `preprocess_function` processes each example in the dataset by:\n",
    "    - **Preparing Inputs:**\n",
    "      - Concatenates the repository name (`repo`) and the diff (`diff`) into a formatted string for the input text.\n",
    "\n",
    "    - **Tokenizing Inputs:**\n",
    "      - The input text is tokenized using the model's tokenizer, ensuring that the input sequences are truncated to a maximum length of 256 tokens and padded to the maximum length.\n",
    "\n",
    "    - **Processing Labels:**\n",
    "      - The commit messages (`message`) are tokenized similarly to the inputs, with a maximum length of 36 tokens.\n",
    "      - Padding token IDs in the labels are replaced with `-100` to ensure they are ignored during the loss calculation.\n",
    "\n",
    "- **Dataset Tokenization:**\n",
    "  - The training and validation datasets are tokenized using the `preprocess_function` via the `.map()` method, removing original columns from the datasets and formatting them for use with PyTorch (`with_format(\"torch\")`).\n"
   ],
   "metadata": {
    "collapsed": false
   }
  },
  {
   "cell_type": "code",
   "execution_count": 155,
   "outputs": [
    {
     "data": {
      "text/plain": "Map:   0%|          | 0/1200 [00:00<?, ? examples/s]",
      "application/vnd.jupyter.widget-view+json": {
       "version_major": 2,
       "version_minor": 0,
       "model_id": "4a0e6f2300e046ac97c0f876c96f92fb"
      }
     },
     "metadata": {},
     "output_type": "display_data"
    },
    {
     "data": {
      "text/plain": "Map:   0%|          | 0/300 [00:00<?, ? examples/s]",
      "application/vnd.jupyter.widget-view+json": {
       "version_major": 2,
       "version_minor": 0,
       "model_id": "9016b8e41df8455b97f8f6d08401388c"
      }
     },
     "metadata": {},
     "output_type": "display_data"
    }
   ],
   "source": [
    "def preprocess_function(examples):\n",
    "    \"\"\"Simplified for synthetic data only\"\"\"\n",
    "    # Prepare inputs\n",
    "    inputs = [\n",
    "        f\"Repo: {repo}\\nDiff:\\n{diff}\"\n",
    "        for repo, diff in zip(examples[\"repo\"], examples[\"diff\"])\n",
    "    ]\n",
    "\n",
    "    # Tokenize inputs\n",
    "    model_inputs = tokenizer(\n",
    "        inputs,\n",
    "        max_length=256,\n",
    "        truncation=True,\n",
    "        padding=\"max_length\",\n",
    "        return_tensors=\"pt\"\n",
    "    )\n",
    "\n",
    "    # Process labels - keep as PyTorch tensors throughout\n",
    "    labels = tokenizer(\n",
    "        text_target=examples[\"message\"],\n",
    "        max_length=36,\n",
    "        truncation=True,\n",
    "        padding=\"max_length\",\n",
    "        return_tensors=\"pt\"\n",
    "    )[\"input_ids\"]\n",
    "\n",
    "    # Replace padding token id with -100\n",
    "    labels = torch.where(labels == tokenizer.pad_token_id, -100, labels)\n",
    "    model_inputs[\"labels\"] = labels\n",
    "\n",
    "    return model_inputs\n",
    "\n",
    "\n",
    "# Process datasets\n",
    "tokenized_train = synthetic_train.map(\n",
    "    preprocess_function,\n",
    "    batched=True,\n",
    "    remove_columns=synthetic_train.column_names\n",
    ").with_format(\"torch\")\n",
    "\n",
    "tokenized_val = synthetic_val.map(\n",
    "    preprocess_function,\n",
    "    batched=True,\n",
    "    remove_columns=synthetic_val.column_names\n",
    ").with_format(\"torch\")"
   ],
   "metadata": {
    "collapsed": false
   }
  },
  {
   "cell_type": "markdown",
   "source": [
    "## 5. Custom Callback for Metrics Logging\n",
    "\n",
    "This section defines a custom callback class for logging training and evaluation metrics during model training.\n",
    "\n",
    "- **PrintMetricsCallback Class:**\n",
    "  - The `PrintMetricsCallback` inherits from `TrainerCallback` and overrides the `on_log` method to print training and evaluation metrics at each logging step.\n",
    "\n",
    "- **Metrics Logging:**\n",
    "  - The callback checks if the current process is the local process (`state.is_local_process_zero`) and if logs are available.\n",
    "\n",
    "  - **Training Loss:**\n",
    "    - If available, the training loss (`loss`) is printed with the current step number.\n",
    "\n",
    "  - **Evaluation Metrics:**\n",
    "    - If evaluation metrics are available, the callback prints:\n",
    "      - **BLEU Score:** Measures the overlap between the n-grams in the predicted and reference sentences. A higher BLEU score indicates better translation quality.\n",
    "      - **METEOR Score:** Evaluates translations based on precision, recall, synonymy, stemming, and word order. METEOR captures more semantic aspects than BLEU.\n",
    "      - **Prefix Accuracy:** Measures how often the first few words of the generated text match the reference. This can be useful for evaluating early-stage sentence generation quality.\n",
    "      - **ROUGE-2 Score:** Measures the overlap of bigrams between the generated and reference text. It’s useful for evaluating the quality of generated text in terms of richness and diversity.\n",
    "\n",
    "  - **Learning Rate:**\n",
    "    - Lastly, we print the (`learning_rate`).\n",
    "\n",
    "- **Output Formatting:**\n",
    "  - All collected metric lines are printed together, with a separator line of `=` characters to visually separate the outputs.\n"
   ],
   "metadata": {
    "collapsed": false
   }
  },
  {
   "cell_type": "code",
   "execution_count": 142,
   "outputs": [],
   "source": [
    "from transformers import TrainerCallback\n",
    "\n",
    "class PrintMetricsCallback(TrainerCallback):\n",
    "    def on_log(self, args, state, control, logs=None, **kwargs):\n",
    "        if state.is_local_process_zero and logs is not None:\n",
    "            # Print training metrics\n",
    "            output_lines = []\n",
    "\n",
    "            if 'loss' in logs:\n",
    "                output_lines.append(f\"Step {state.global_step} - Training Loss: {logs['loss']:.4f}\")\n",
    "\n",
    "            # Print all evaluation metrics if available\n",
    "            if 'eval_loss' in logs:\n",
    "                output_lines.append(\"\\nEvaluation Metrics:\")\n",
    "                output_lines.append(f\"  - Validation Loss: {logs['eval_loss']:.4f}\")\n",
    "\n",
    "                # ROUGE metrics\n",
    "                if 'eval_rouge1' in logs:\n",
    "                    output_lines.append(f\"  - ROUGE-1: {logs['eval_rouge1']:.4f}\")\n",
    "                if 'eval_rouge2' in logs:\n",
    "                    output_lines.append(f\"  - ROUGE-2: {logs['eval_rouge2']:.4f}\")\n",
    "                if 'eval_rougeL' in logs:\n",
    "                    output_lines.append(f\"  - ROUGE-L: {logs['eval_rougeL']:.4f}\")\n",
    "\n",
    "                # Other metrics\n",
    "                if 'eval_bleu' in logs:\n",
    "                    output_lines.append(f\"  - BLEU: {logs['eval_bleu']:.4f}\")\n",
    "                if 'eval_meteor' in logs:\n",
    "                    output_lines.append(f\"  - METEOR: {logs['eval_meteor']:.4f}\")\n",
    "                if 'eval_exact_match' in logs:\n",
    "                    output_lines.append(f\"  - Exact Match: {logs['eval_exact_match']:.4f}\")\n",
    "                if 'eval_prefix_accuracy' in logs:\n",
    "                    output_lines.append(f\"  - Prefix Accuracy: {logs['eval_prefix_accuracy']:.4f}\")\n",
    "\n",
    "                # Add learning rate if available\n",
    "                if 'learning_rate' in logs:\n",
    "                    output_lines.append(f\"\\n  - Learning Rate: {logs['learning_rate']:.2e}\")\n",
    "\n",
    "            # Print all collected lines\n",
    "            if output_lines:\n",
    "                print(\"\\n\".join(output_lines) + \"\\n\" + \"=\"*50 + \"\\n\")"
   ],
   "metadata": {
    "collapsed": false
   }
  },
  {
   "cell_type": "markdown",
   "source": [
    "## 6. Training Setup and Enhanced Metric Calculation\n",
    "\n",
    "This section sets up the training parameters, metrics computation, and the training process for fine-tuning the model.\n",
    "\n",
    "- **Training Arguments:**\n",
    "  - **`Seq2SeqTrainingArguments`** defines the settings for training:\n",
    "    - **Batch Size:** 8 for both training and evaluation.\n",
    "    - **Learning Rate:** Set to `2e-5` for gradual model updates.\n",
    "    - **Epochs:** 10 training epochs.\n",
    "    - **Evaluation and Save Strategy:** Evaluates and saves the model every 100 steps.\n",
    "    - **Logging:** Logs the training progress in the `./logs` directory.\n",
    "    - **Model Selection:** Loads the best model based on the ROUGE-L score at the end of training.\n",
    "    - **Gradient Accumulation:** Accumulates gradients over 2 steps to effectively train with a larger batch size without exceeding memory limits.\n",
    "    - **Device Settings:** Training is done with `no_cuda=True` (i.e., on CPU) and `fp16=False` (no mixed precision).\n",
    "\n",
    "- **Metric Calculation:**\n",
    "  - The `compute_metrics` function computes several evaluation metrics. Please refer to the section above for the explanations.\n",
    "\n",
    "- **Data Collator:**\n",
    "  - **`DataCollatorForSeq2Seq`** is used to handle the padding and tokenization of the input data. It ensures consistent input formats for training and evaluation.\n",
    "\n",
    "- **Trainer:**\n",
    "  - The `Seq2SeqTrainer` is initialized with:\n",
    "    - The model, training arguments, datasets, tokenizer, and custom metric computation.\n",
    "    - A custom callback (`PrintMetricsCallback`) to log metrics during training.\n"
   ],
   "metadata": {
    "collapsed": false
   }
  },
  {
   "cell_type": "code",
   "execution_count": 143,
   "outputs": [
    {
     "name": "stderr",
     "output_type": "stream",
     "text": [
      "[nltk_data] Downloading package wordnet to\n",
      "[nltk_data]     /Users/jasminavulovic/nltk_data...\n",
      "[nltk_data]   Package wordnet is already up-to-date!\n",
      "[nltk_data] Downloading package punkt_tab to\n",
      "[nltk_data]     /Users/jasminavulovic/nltk_data...\n",
      "[nltk_data]   Package punkt_tab is already up-to-date!\n",
      "[nltk_data] Downloading package omw-1.4 to\n",
      "[nltk_data]     /Users/jasminavulovic/nltk_data...\n",
      "[nltk_data]   Package omw-1.4 is already up-to-date!\n",
      "/var/folders/dd/vd9k42ls7n5c72s8l82m7pz40000gn/T/ipykernel_45591/2375264750.py:88: FutureWarning: `tokenizer` is deprecated and will be removed in version 5.0.0 for `Seq2SeqTrainer.__init__`. Use `processing_class` instead.\n",
      "  trainer = Seq2SeqTrainer(\n"
     ]
    }
   ],
   "source": [
    "training_args = Seq2SeqTrainingArguments(\n",
    "    output_dir=\"./commit-gen-2\",\n",
    "    per_device_train_batch_size=8,\n",
    "    per_device_eval_batch_size=8,\n",
    "    evaluation_strategy=\"steps\",\n",
    "    save_strategy=\"steps\",\n",
    "    learning_rate=2e-5,\n",
    "    num_train_epochs=10,\n",
    "    warmup_steps=100,\n",
    "    weight_decay=0.01,\n",
    "    logging_dir=\"./logs\",\n",
    "    load_best_model_at_end=True,\n",
    "    metric_for_best_model=\"eval_rougeL\",\n",
    "    dataloader_num_workers=4,\n",
    "    gradient_accumulation_steps=2,\n",
    "    greater_is_better=True,\n",
    "    fp16=False,\n",
    "    no_cuda=True,\n",
    "    predict_with_generate=True,\n",
    "    generation_max_length=36,\n",
    "    generation_num_beams=1,\n",
    "    eval_steps=100,\n",
    "    logging_steps=100,\n",
    ")\n",
    "\n",
    "\n",
    "rouge = evaluate.load(\"rouge\")\n",
    "bleu = evaluate.load(\"bleu\")\n",
    "meteor = evaluate.load(\"meteor\")\n",
    "\n",
    "\n",
    "# Enhanced Metric Calculation\n",
    "def compute_metrics(eval_pred):\n",
    "    preds, labels = eval_pred\n",
    "    preds = np.where(preds != -100, preds, tokenizer.pad_token_id)\n",
    "    labels = np.where(labels != -100, labels, tokenizer.pad_token_id)\n",
    "\n",
    "    decoded_preds = tokenizer.batch_decode(preds, skip_special_tokens=True)\n",
    "    decoded_labels = tokenizer.batch_decode(labels, skip_special_tokens=True)\n",
    "\n",
    "    # Compute all metrics\n",
    "    rouge_results = rouge.compute(\n",
    "        predictions=decoded_preds,\n",
    "        references=decoded_labels,\n",
    "        use_stemmer=True\n",
    "    )\n",
    "    bleu_score = bleu.compute(predictions=decoded_preds, references=decoded_labels)\n",
    "    meteor_score = meteor.compute(predictions=decoded_preds, references=decoded_labels)\n",
    "\n",
    "    exact_matches = sum(\n",
    "        1 for pred, ref in zip(decoded_preds, decoded_labels) if pred.strip() == ref.strip()\n",
    "    ) / len(decoded_labels)\n",
    "\n",
    "    prefix_matches = sum(\n",
    "        1 for pred in decoded_preds if any(\n",
    "            pred.strip().startswith(prefix)\n",
    "            for prefix in ['feat', 'fix', 'refactor', 'docs', 'test']\n",
    "        )\n",
    "    ) / len(decoded_preds)\n",
    "\n",
    "    return {\n",
    "        \"eval_loss\": None,  # This will be added automatically by the Trainer\n",
    "        **{f\"eval_{k}\": v for k, v in rouge_results.items()},\n",
    "        \"eval_bleu\": bleu_score[\"bleu\"],\n",
    "        \"eval_meteor\": meteor_score[\"meteor\"],\n",
    "        \"eval_exact_match\": exact_matches,\n",
    "        \"eval_prefix_accuracy\": prefix_matches,\n",
    "    }\n",
    "\n",
    "from transformers import DataCollatorForSeq2Seq\n",
    "\n",
    "data_collator = DataCollatorForSeq2Seq(\n",
    "    tokenizer,\n",
    "    model=model,\n",
    "    padding=True,\n",
    "    pad_to_multiple_of=8,\n",
    "    max_length=256,\n",
    "    label_pad_token_id=-100,\n",
    "    return_tensors=\"pt\",\n",
    ")\n",
    "\n",
    "trainer = Seq2SeqTrainer(\n",
    "    model=model,\n",
    "    args=training_args,\n",
    "    train_dataset=tokenized_train,\n",
    "    eval_dataset=tokenized_val,\n",
    "    tokenizer=tokenizer,\n",
    "    compute_metrics=compute_metrics,\n",
    "    data_collator=data_collator,\n",
    "    callbacks=[PrintMetricsCallback()]\n",
    ")\n"
   ],
   "metadata": {
    "collapsed": false
   }
  },
  {
   "cell_type": "markdown",
   "source": [
    "## 7. Training and Evaluation\n",
    "\n",
    "This section runs the training and evaluation processes and outputs the final benchmark results.\n",
    "\n",
    "- **Training:**\n",
    "  - The `trainer.train()` method is called to begin the training process using the specified training arguments, dataset, and model. The training process adjusts the model's weights over the specified number of epochs.\n",
    "\n",
    "- **Evaluation:**\n",
    "  - After training, the `trainer.evaluate()` method is called to evaluate the model's performance on the validation dataset. This provides metrics like loss and other evaluation scores defined in the `compute_metrics` function.\n",
    "\n",
    "- **Benchmark Results:**\n",
    "  - The final evaluation results, stored in `benchmark_results`, are printed out. These results provide a summary of the model's performance, including all the computed metrics (e.g., ROUGE, BLEU, METEOR, etc.).\n"
   ],
   "metadata": {
    "collapsed": false
   }
  },
  {
   "cell_type": "code",
   "execution_count": 144,
   "outputs": [
    {
     "name": "stderr",
     "output_type": "stream",
     "text": [
      "Exception ignored in: <function _MultiProcessingDataLoaderIter.__del__ at 0x7fca592d1ab0>\n",
      "Traceback (most recent call last):\n",
      "  File \"/Users/jasminavulovic/opt/anaconda3/envs/i2dl/lib/python3.10/site-packages/torch/utils/data/dataloader.py\", line 1479, in __del__\n",
      "    self._shutdown_workers()\n",
      "  File \"/Users/jasminavulovic/opt/anaconda3/envs/i2dl/lib/python3.10/site-packages/torch/utils/data/dataloader.py\", line 1437, in _shutdown_workers\n",
      "    if self._persistent_workers or self._workers_status[worker_id]:\n",
      "AttributeError: '_MultiProcessingDataLoaderIter' object has no attribute '_workers_status'\n",
      "/Users/jasminavulovic/opt/anaconda3/envs/i2dl/lib/python3.10/site-packages/transformers/tokenization_utils_base.py:2718: UserWarning: `max_length` is ignored when `padding`=`True` and there is no truncation strategy. To pad to max length, use `padding='max_length'`.\n",
      "  warnings.warn(\n",
      "/Users/jasminavulovic/opt/anaconda3/envs/i2dl/lib/python3.10/site-packages/transformers/tokenization_utils_base.py:2718: UserWarning: `max_length` is ignored when `padding`=`True` and there is no truncation strategy. To pad to max length, use `padding='max_length'`.\n",
      "  warnings.warn(\n",
      "/Users/jasminavulovic/opt/anaconda3/envs/i2dl/lib/python3.10/site-packages/transformers/tokenization_utils_base.py:2718: UserWarning: `max_length` is ignored when `padding`=`True` and there is no truncation strategy. To pad to max length, use `padding='max_length'`.\n",
      "  warnings.warn(\n",
      "/Users/jasminavulovic/opt/anaconda3/envs/i2dl/lib/python3.10/site-packages/transformers/data/data_collator.py:741: UserWarning: Creating a tensor from a list of numpy.ndarrays is extremely slow. Please consider converting the list to a single numpy.ndarray with numpy.array() before converting to a tensor. (Triggered internally at /Users/runner/work/pytorch/pytorch/pytorch/torch/csrc/utils/tensor_new.cpp:278.)\n",
      "  batch[\"labels\"] = torch.tensor(batch[\"labels\"], dtype=torch.int64)\n",
      "/Users/jasminavulovic/opt/anaconda3/envs/i2dl/lib/python3.10/site-packages/transformers/data/data_collator.py:741: UserWarning: Creating a tensor from a list of numpy.ndarrays is extremely slow. Please consider converting the list to a single numpy.ndarray with numpy.array() before converting to a tensor. (Triggered internally at /Users/runner/work/pytorch/pytorch/pytorch/torch/csrc/utils/tensor_new.cpp:278.)\n",
      "  batch[\"labels\"] = torch.tensor(batch[\"labels\"], dtype=torch.int64)\n",
      "/Users/jasminavulovic/opt/anaconda3/envs/i2dl/lib/python3.10/site-packages/transformers/data/data_collator.py:741: UserWarning: Creating a tensor from a list of numpy.ndarrays is extremely slow. Please consider converting the list to a single numpy.ndarray with numpy.array() before converting to a tensor. (Triggered internally at /Users/runner/work/pytorch/pytorch/pytorch/torch/csrc/utils/tensor_new.cpp:278.)\n",
      "  batch[\"labels\"] = torch.tensor(batch[\"labels\"], dtype=torch.int64)\n",
      "/Users/jasminavulovic/opt/anaconda3/envs/i2dl/lib/python3.10/site-packages/transformers/tokenization_utils_base.py:2718: UserWarning: `max_length` is ignored when `padding`=`True` and there is no truncation strategy. To pad to max length, use `padding='max_length'`.\n",
      "  warnings.warn(\n",
      "/Users/jasminavulovic/opt/anaconda3/envs/i2dl/lib/python3.10/site-packages/transformers/data/data_collator.py:741: UserWarning: Creating a tensor from a list of numpy.ndarrays is extremely slow. Please consider converting the list to a single numpy.ndarray with numpy.array() before converting to a tensor. (Triggered internally at /Users/runner/work/pytorch/pytorch/pytorch/torch/csrc/utils/tensor_new.cpp:278.)\n",
      "  batch[\"labels\"] = torch.tensor(batch[\"labels\"], dtype=torch.int64)\n"
     ]
    },
    {
     "data": {
      "text/plain": "<IPython.core.display.HTML object>",
      "text/html": "\n    <div>\n      \n      <progress value='2' max='750' style='width:300px; height:20px; vertical-align: middle;'></progress>\n      [  2/750 : < :, Epoch 0.01/10]\n    </div>\n    <table border=\"1\" class=\"dataframe\">\n  <thead>\n <tr style=\"text-align: left;\">\n      <th>Step</th>\n      <th>Training Loss</th>\n      <th>Validation Loss</th>\n    </tr>\n  </thead>\n  <tbody>\n  </tbody>\n</table><p>"
     },
     "metadata": {},
     "output_type": "display_data"
    },
    {
     "name": "stderr",
     "output_type": "stream",
     "text": [
      "/Users/jasminavulovic/opt/anaconda3/envs/i2dl/lib/python3.10/site-packages/transformers/tokenization_utils_base.py:2718: UserWarning: `max_length` is ignored when `padding`=`True` and there is no truncation strategy. To pad to max length, use `padding='max_length'`.\n",
      "  warnings.warn(\n",
      "/Users/jasminavulovic/opt/anaconda3/envs/i2dl/lib/python3.10/site-packages/transformers/data/data_collator.py:741: UserWarning: Creating a tensor from a list of numpy.ndarrays is extremely slow. Please consider converting the list to a single numpy.ndarray with numpy.array() before converting to a tensor. (Triggered internally at /Users/runner/work/pytorch/pytorch/pytorch/torch/csrc/utils/tensor_new.cpp:278.)\n",
      "  batch[\"labels\"] = torch.tensor(batch[\"labels\"], dtype=torch.int64)\n",
      "/Users/jasminavulovic/opt/anaconda3/envs/i2dl/lib/python3.10/site-packages/transformers/tokenization_utils_base.py:2718: UserWarning: `max_length` is ignored when `padding`=`True` and there is no truncation strategy. To pad to max length, use `padding='max_length'`.\n",
      "  warnings.warn(\n",
      "/Users/jasminavulovic/opt/anaconda3/envs/i2dl/lib/python3.10/site-packages/transformers/data/data_collator.py:741: UserWarning: Creating a tensor from a list of numpy.ndarrays is extremely slow. Please consider converting the list to a single numpy.ndarray with numpy.array() before converting to a tensor. (Triggered internally at /Users/runner/work/pytorch/pytorch/pytorch/torch/csrc/utils/tensor_new.cpp:278.)\n",
      "  batch[\"labels\"] = torch.tensor(batch[\"labels\"], dtype=torch.int64)\n",
      "/Users/jasminavulovic/opt/anaconda3/envs/i2dl/lib/python3.10/site-packages/transformers/tokenization_utils_base.py:2718: UserWarning: `max_length` is ignored when `padding`=`True` and there is no truncation strategy. To pad to max length, use `padding='max_length'`.\n",
      "  warnings.warn(\n",
      "/Users/jasminavulovic/opt/anaconda3/envs/i2dl/lib/python3.10/site-packages/transformers/data/data_collator.py:741: UserWarning: Creating a tensor from a list of numpy.ndarrays is extremely slow. Please consider converting the list to a single numpy.ndarray with numpy.array() before converting to a tensor. (Triggered internally at /Users/runner/work/pytorch/pytorch/pytorch/torch/csrc/utils/tensor_new.cpp:278.)\n",
      "  batch[\"labels\"] = torch.tensor(batch[\"labels\"], dtype=torch.int64)\n",
      "/Users/jasminavulovic/opt/anaconda3/envs/i2dl/lib/python3.10/site-packages/transformers/tokenization_utils_base.py:2718: UserWarning: `max_length` is ignored when `padding`=`True` and there is no truncation strategy. To pad to max length, use `padding='max_length'`.\n",
      "  warnings.warn(\n",
      "/Users/jasminavulovic/opt/anaconda3/envs/i2dl/lib/python3.10/site-packages/transformers/data/data_collator.py:741: UserWarning: Creating a tensor from a list of numpy.ndarrays is extremely slow. Please consider converting the list to a single numpy.ndarray with numpy.array() before converting to a tensor. (Triggered internally at /Users/runner/work/pytorch/pytorch/pytorch/torch/csrc/utils/tensor_new.cpp:278.)\n",
      "  batch[\"labels\"] = torch.tensor(batch[\"labels\"], dtype=torch.int64)\n"
     ]
    },
    {
     "name": "stdout",
     "output_type": "stream",
     "text": [
      "Step 100 - Training Loss: 4.5899\n",
      "==================================================\n",
      "\n"
     ]
    },
    {
     "name": "stderr",
     "output_type": "stream",
     "text": [
      "/Users/jasminavulovic/opt/anaconda3/envs/i2dl/lib/python3.10/site-packages/transformers/tokenization_utils_base.py:2718: UserWarning: `max_length` is ignored when `padding`=`True` and there is no truncation strategy. To pad to max length, use `padding='max_length'`.\n",
      "  warnings.warn(\n",
      "/Users/jasminavulovic/opt/anaconda3/envs/i2dl/lib/python3.10/site-packages/transformers/tokenization_utils_base.py:2718: UserWarning: `max_length` is ignored when `padding`=`True` and there is no truncation strategy. To pad to max length, use `padding='max_length'`.\n",
      "  warnings.warn(\n",
      "/Users/jasminavulovic/opt/anaconda3/envs/i2dl/lib/python3.10/site-packages/transformers/data/data_collator.py:741: UserWarning: Creating a tensor from a list of numpy.ndarrays is extremely slow. Please consider converting the list to a single numpy.ndarray with numpy.array() before converting to a tensor. (Triggered internally at /Users/runner/work/pytorch/pytorch/pytorch/torch/csrc/utils/tensor_new.cpp:278.)\n",
      "  batch[\"labels\"] = torch.tensor(batch[\"labels\"], dtype=torch.int64)\n",
      "/Users/jasminavulovic/opt/anaconda3/envs/i2dl/lib/python3.10/site-packages/transformers/data/data_collator.py:741: UserWarning: Creating a tensor from a list of numpy.ndarrays is extremely slow. Please consider converting the list to a single numpy.ndarray with numpy.array() before converting to a tensor. (Triggered internally at /Users/runner/work/pytorch/pytorch/pytorch/torch/csrc/utils/tensor_new.cpp:278.)\n",
      "  batch[\"labels\"] = torch.tensor(batch[\"labels\"], dtype=torch.int64)\n",
      "/Users/jasminavulovic/opt/anaconda3/envs/i2dl/lib/python3.10/site-packages/transformers/tokenization_utils_base.py:2718: UserWarning: `max_length` is ignored when `padding`=`True` and there is no truncation strategy. To pad to max length, use `padding='max_length'`.\n",
      "  warnings.warn(\n",
      "/Users/jasminavulovic/opt/anaconda3/envs/i2dl/lib/python3.10/site-packages/transformers/data/data_collator.py:741: UserWarning: Creating a tensor from a list of numpy.ndarrays is extremely slow. Please consider converting the list to a single numpy.ndarray with numpy.array() before converting to a tensor. (Triggered internally at /Users/runner/work/pytorch/pytorch/pytorch/torch/csrc/utils/tensor_new.cpp:278.)\n",
      "  batch[\"labels\"] = torch.tensor(batch[\"labels\"], dtype=torch.int64)\n",
      "/Users/jasminavulovic/opt/anaconda3/envs/i2dl/lib/python3.10/site-packages/transformers/tokenization_utils_base.py:2718: UserWarning: `max_length` is ignored when `padding`=`True` and there is no truncation strategy. To pad to max length, use `padding='max_length'`.\n",
      "  warnings.warn(\n",
      "/Users/jasminavulovic/opt/anaconda3/envs/i2dl/lib/python3.10/site-packages/transformers/data/data_collator.py:741: UserWarning: Creating a tensor from a list of numpy.ndarrays is extremely slow. Please consider converting the list to a single numpy.ndarray with numpy.array() before converting to a tensor. (Triggered internally at /Users/runner/work/pytorch/pytorch/pytorch/torch/csrc/utils/tensor_new.cpp:278.)\n",
      "  batch[\"labels\"] = torch.tensor(batch[\"labels\"], dtype=torch.int64)\n"
     ]
    },
    {
     "name": "stdout",
     "output_type": "stream",
     "text": [
      "\n",
      "Evaluation Metrics:\n",
      "  - Validation Loss: 2.1826\n",
      "  - ROUGE-1: 0.3117\n",
      "  - ROUGE-2: 0.0921\n",
      "  - ROUGE-L: 0.2996\n",
      "  - BLEU: 0.3692\n",
      "  - METEOR: 0.4630\n",
      "  - Exact Match: 0.0000\n",
      "  - Prefix Accuracy: 0.7167\n",
      "==================================================\n",
      "\n"
     ]
    },
    {
     "name": "stderr",
     "output_type": "stream",
     "text": [
      "/Users/jasminavulovic/opt/anaconda3/envs/i2dl/lib/python3.10/site-packages/transformers/tokenization_utils_base.py:2718: UserWarning: `max_length` is ignored when `padding`=`True` and there is no truncation strategy. To pad to max length, use `padding='max_length'`.\n",
      "  warnings.warn(\n",
      "/Users/jasminavulovic/opt/anaconda3/envs/i2dl/lib/python3.10/site-packages/transformers/tokenization_utils_base.py:2718: UserWarning: `max_length` is ignored when `padding`=`True` and there is no truncation strategy. To pad to max length, use `padding='max_length'`.\n",
      "  warnings.warn(\n",
      "/Users/jasminavulovic/opt/anaconda3/envs/i2dl/lib/python3.10/site-packages/transformers/data/data_collator.py:741: UserWarning: Creating a tensor from a list of numpy.ndarrays is extremely slow. Please consider converting the list to a single numpy.ndarray with numpy.array() before converting to a tensor. (Triggered internally at /Users/runner/work/pytorch/pytorch/pytorch/torch/csrc/utils/tensor_new.cpp:278.)\n",
      "  batch[\"labels\"] = torch.tensor(batch[\"labels\"], dtype=torch.int64)\n",
      "/Users/jasminavulovic/opt/anaconda3/envs/i2dl/lib/python3.10/site-packages/transformers/data/data_collator.py:741: UserWarning: Creating a tensor from a list of numpy.ndarrays is extremely slow. Please consider converting the list to a single numpy.ndarray with numpy.array() before converting to a tensor. (Triggered internally at /Users/runner/work/pytorch/pytorch/pytorch/torch/csrc/utils/tensor_new.cpp:278.)\n",
      "  batch[\"labels\"] = torch.tensor(batch[\"labels\"], dtype=torch.int64)\n",
      "/Users/jasminavulovic/opt/anaconda3/envs/i2dl/lib/python3.10/site-packages/transformers/tokenization_utils_base.py:2718: UserWarning: `max_length` is ignored when `padding`=`True` and there is no truncation strategy. To pad to max length, use `padding='max_length'`.\n",
      "  warnings.warn(\n",
      "/Users/jasminavulovic/opt/anaconda3/envs/i2dl/lib/python3.10/site-packages/transformers/data/data_collator.py:741: UserWarning: Creating a tensor from a list of numpy.ndarrays is extremely slow. Please consider converting the list to a single numpy.ndarray with numpy.array() before converting to a tensor. (Triggered internally at /Users/runner/work/pytorch/pytorch/pytorch/torch/csrc/utils/tensor_new.cpp:278.)\n",
      "  batch[\"labels\"] = torch.tensor(batch[\"labels\"], dtype=torch.int64)\n",
      "/Users/jasminavulovic/opt/anaconda3/envs/i2dl/lib/python3.10/site-packages/transformers/tokenization_utils_base.py:2718: UserWarning: `max_length` is ignored when `padding`=`True` and there is no truncation strategy. To pad to max length, use `padding='max_length'`.\n",
      "  warnings.warn(\n",
      "/Users/jasminavulovic/opt/anaconda3/envs/i2dl/lib/python3.10/site-packages/transformers/data/data_collator.py:741: UserWarning: Creating a tensor from a list of numpy.ndarrays is extremely slow. Please consider converting the list to a single numpy.ndarray with numpy.array() before converting to a tensor. (Triggered internally at /Users/runner/work/pytorch/pytorch/pytorch/torch/csrc/utils/tensor_new.cpp:278.)\n",
      "  batch[\"labels\"] = torch.tensor(batch[\"labels\"], dtype=torch.int64)\n"
     ]
    },
    {
     "name": "stdout",
     "output_type": "stream",
     "text": [
      "Step 200 - Training Loss: 1.8091\n",
      "==================================================\n",
      "\n"
     ]
    },
    {
     "name": "stderr",
     "output_type": "stream",
     "text": [
      "/Users/jasminavulovic/opt/anaconda3/envs/i2dl/lib/python3.10/site-packages/transformers/tokenization_utils_base.py:2718: UserWarning: `max_length` is ignored when `padding`=`True` and there is no truncation strategy. To pad to max length, use `padding='max_length'`.\n",
      "  warnings.warn(\n",
      "/Users/jasminavulovic/opt/anaconda3/envs/i2dl/lib/python3.10/site-packages/transformers/tokenization_utils_base.py:2718: UserWarning: `max_length` is ignored when `padding`=`True` and there is no truncation strategy. To pad to max length, use `padding='max_length'`.\n",
      "  warnings.warn(\n",
      "/Users/jasminavulovic/opt/anaconda3/envs/i2dl/lib/python3.10/site-packages/transformers/tokenization_utils_base.py:2718: UserWarning: `max_length` is ignored when `padding`=`True` and there is no truncation strategy. To pad to max length, use `padding='max_length'`.\n",
      "  warnings.warn(\n",
      "/Users/jasminavulovic/opt/anaconda3/envs/i2dl/lib/python3.10/site-packages/transformers/data/data_collator.py:741: UserWarning: Creating a tensor from a list of numpy.ndarrays is extremely slow. Please consider converting the list to a single numpy.ndarray with numpy.array() before converting to a tensor. (Triggered internally at /Users/runner/work/pytorch/pytorch/pytorch/torch/csrc/utils/tensor_new.cpp:278.)\n",
      "  batch[\"labels\"] = torch.tensor(batch[\"labels\"], dtype=torch.int64)\n",
      "/Users/jasminavulovic/opt/anaconda3/envs/i2dl/lib/python3.10/site-packages/transformers/data/data_collator.py:741: UserWarning: Creating a tensor from a list of numpy.ndarrays is extremely slow. Please consider converting the list to a single numpy.ndarray with numpy.array() before converting to a tensor. (Triggered internally at /Users/runner/work/pytorch/pytorch/pytorch/torch/csrc/utils/tensor_new.cpp:278.)\n",
      "  batch[\"labels\"] = torch.tensor(batch[\"labels\"], dtype=torch.int64)\n",
      "/Users/jasminavulovic/opt/anaconda3/envs/i2dl/lib/python3.10/site-packages/transformers/data/data_collator.py:741: UserWarning: Creating a tensor from a list of numpy.ndarrays is extremely slow. Please consider converting the list to a single numpy.ndarray with numpy.array() before converting to a tensor. (Triggered internally at /Users/runner/work/pytorch/pytorch/pytorch/torch/csrc/utils/tensor_new.cpp:278.)\n",
      "  batch[\"labels\"] = torch.tensor(batch[\"labels\"], dtype=torch.int64)\n",
      "/Users/jasminavulovic/opt/anaconda3/envs/i2dl/lib/python3.10/site-packages/transformers/tokenization_utils_base.py:2718: UserWarning: `max_length` is ignored when `padding`=`True` and there is no truncation strategy. To pad to max length, use `padding='max_length'`.\n",
      "  warnings.warn(\n",
      "/Users/jasminavulovic/opt/anaconda3/envs/i2dl/lib/python3.10/site-packages/transformers/data/data_collator.py:741: UserWarning: Creating a tensor from a list of numpy.ndarrays is extremely slow. Please consider converting the list to a single numpy.ndarray with numpy.array() before converting to a tensor. (Triggered internally at /Users/runner/work/pytorch/pytorch/pytorch/torch/csrc/utils/tensor_new.cpp:278.)\n",
      "  batch[\"labels\"] = torch.tensor(batch[\"labels\"], dtype=torch.int64)\n"
     ]
    },
    {
     "name": "stdout",
     "output_type": "stream",
     "text": [
      "\n",
      "Evaluation Metrics:\n",
      "  - Validation Loss: 1.3258\n",
      "  - ROUGE-1: 0.3096\n",
      "  - ROUGE-2: 0.0977\n",
      "  - ROUGE-L: 0.2941\n",
      "  - BLEU: 0.3870\n",
      "  - METEOR: 0.4673\n",
      "  - Exact Match: 0.0100\n",
      "  - Prefix Accuracy: 0.4667\n",
      "==================================================\n",
      "\n"
     ]
    },
    {
     "name": "stderr",
     "output_type": "stream",
     "text": [
      "/Users/jasminavulovic/opt/anaconda3/envs/i2dl/lib/python3.10/site-packages/transformers/tokenization_utils_base.py:2718: UserWarning: `max_length` is ignored when `padding`=`True` and there is no truncation strategy. To pad to max length, use `padding='max_length'`.\n",
      "  warnings.warn(\n",
      "/Users/jasminavulovic/opt/anaconda3/envs/i2dl/lib/python3.10/site-packages/transformers/tokenization_utils_base.py:2718: UserWarning: `max_length` is ignored when `padding`=`True` and there is no truncation strategy. To pad to max length, use `padding='max_length'`.\n",
      "  warnings.warn(\n",
      "/Users/jasminavulovic/opt/anaconda3/envs/i2dl/lib/python3.10/site-packages/transformers/data/data_collator.py:741: UserWarning: Creating a tensor from a list of numpy.ndarrays is extremely slow. Please consider converting the list to a single numpy.ndarray with numpy.array() before converting to a tensor. (Triggered internally at /Users/runner/work/pytorch/pytorch/pytorch/torch/csrc/utils/tensor_new.cpp:278.)\n",
      "  batch[\"labels\"] = torch.tensor(batch[\"labels\"], dtype=torch.int64)\n",
      "/Users/jasminavulovic/opt/anaconda3/envs/i2dl/lib/python3.10/site-packages/transformers/data/data_collator.py:741: UserWarning: Creating a tensor from a list of numpy.ndarrays is extremely slow. Please consider converting the list to a single numpy.ndarray with numpy.array() before converting to a tensor. (Triggered internally at /Users/runner/work/pytorch/pytorch/pytorch/torch/csrc/utils/tensor_new.cpp:278.)\n",
      "  batch[\"labels\"] = torch.tensor(batch[\"labels\"], dtype=torch.int64)\n",
      "/Users/jasminavulovic/opt/anaconda3/envs/i2dl/lib/python3.10/site-packages/transformers/tokenization_utils_base.py:2718: UserWarning: `max_length` is ignored when `padding`=`True` and there is no truncation strategy. To pad to max length, use `padding='max_length'`.\n",
      "  warnings.warn(\n",
      "/Users/jasminavulovic/opt/anaconda3/envs/i2dl/lib/python3.10/site-packages/transformers/data/data_collator.py:741: UserWarning: Creating a tensor from a list of numpy.ndarrays is extremely slow. Please consider converting the list to a single numpy.ndarray with numpy.array() before converting to a tensor. (Triggered internally at /Users/runner/work/pytorch/pytorch/pytorch/torch/csrc/utils/tensor_new.cpp:278.)\n",
      "  batch[\"labels\"] = torch.tensor(batch[\"labels\"], dtype=torch.int64)\n",
      "/Users/jasminavulovic/opt/anaconda3/envs/i2dl/lib/python3.10/site-packages/transformers/tokenization_utils_base.py:2718: UserWarning: `max_length` is ignored when `padding`=`True` and there is no truncation strategy. To pad to max length, use `padding='max_length'`.\n",
      "  warnings.warn(\n",
      "/Users/jasminavulovic/opt/anaconda3/envs/i2dl/lib/python3.10/site-packages/transformers/data/data_collator.py:741: UserWarning: Creating a tensor from a list of numpy.ndarrays is extremely slow. Please consider converting the list to a single numpy.ndarray with numpy.array() before converting to a tensor. (Triggered internally at /Users/runner/work/pytorch/pytorch/pytorch/torch/csrc/utils/tensor_new.cpp:278.)\n",
      "  batch[\"labels\"] = torch.tensor(batch[\"labels\"], dtype=torch.int64)\n"
     ]
    },
    {
     "name": "stdout",
     "output_type": "stream",
     "text": [
      "Step 300 - Training Loss: 1.3529\n",
      "==================================================\n",
      "\n"
     ]
    },
    {
     "name": "stderr",
     "output_type": "stream",
     "text": [
      "/Users/jasminavulovic/opt/anaconda3/envs/i2dl/lib/python3.10/site-packages/transformers/tokenization_utils_base.py:2718: UserWarning: `max_length` is ignored when `padding`=`True` and there is no truncation strategy. To pad to max length, use `padding='max_length'`.\n",
      "  warnings.warn(\n",
      "/Users/jasminavulovic/opt/anaconda3/envs/i2dl/lib/python3.10/site-packages/transformers/tokenization_utils_base.py:2718: UserWarning: `max_length` is ignored when `padding`=`True` and there is no truncation strategy. To pad to max length, use `padding='max_length'`.\n",
      "  warnings.warn(\n",
      "/Users/jasminavulovic/opt/anaconda3/envs/i2dl/lib/python3.10/site-packages/transformers/tokenization_utils_base.py:2718: UserWarning: `max_length` is ignored when `padding`=`True` and there is no truncation strategy. To pad to max length, use `padding='max_length'`.\n",
      "  warnings.warn(\n",
      "/Users/jasminavulovic/opt/anaconda3/envs/i2dl/lib/python3.10/site-packages/transformers/data/data_collator.py:741: UserWarning: Creating a tensor from a list of numpy.ndarrays is extremely slow. Please consider converting the list to a single numpy.ndarray with numpy.array() before converting to a tensor. (Triggered internally at /Users/runner/work/pytorch/pytorch/pytorch/torch/csrc/utils/tensor_new.cpp:278.)\n",
      "  batch[\"labels\"] = torch.tensor(batch[\"labels\"], dtype=torch.int64)\n",
      "/Users/jasminavulovic/opt/anaconda3/envs/i2dl/lib/python3.10/site-packages/transformers/data/data_collator.py:741: UserWarning: Creating a tensor from a list of numpy.ndarrays is extremely slow. Please consider converting the list to a single numpy.ndarray with numpy.array() before converting to a tensor. (Triggered internally at /Users/runner/work/pytorch/pytorch/pytorch/torch/csrc/utils/tensor_new.cpp:278.)\n",
      "  batch[\"labels\"] = torch.tensor(batch[\"labels\"], dtype=torch.int64)\n",
      "/Users/jasminavulovic/opt/anaconda3/envs/i2dl/lib/python3.10/site-packages/transformers/data/data_collator.py:741: UserWarning: Creating a tensor from a list of numpy.ndarrays is extremely slow. Please consider converting the list to a single numpy.ndarray with numpy.array() before converting to a tensor. (Triggered internally at /Users/runner/work/pytorch/pytorch/pytorch/torch/csrc/utils/tensor_new.cpp:278.)\n",
      "  batch[\"labels\"] = torch.tensor(batch[\"labels\"], dtype=torch.int64)\n",
      "/Users/jasminavulovic/opt/anaconda3/envs/i2dl/lib/python3.10/site-packages/transformers/tokenization_utils_base.py:2718: UserWarning: `max_length` is ignored when `padding`=`True` and there is no truncation strategy. To pad to max length, use `padding='max_length'`.\n",
      "  warnings.warn(\n",
      "/Users/jasminavulovic/opt/anaconda3/envs/i2dl/lib/python3.10/site-packages/transformers/data/data_collator.py:741: UserWarning: Creating a tensor from a list of numpy.ndarrays is extremely slow. Please consider converting the list to a single numpy.ndarray with numpy.array() before converting to a tensor. (Triggered internally at /Users/runner/work/pytorch/pytorch/pytorch/torch/csrc/utils/tensor_new.cpp:278.)\n",
      "  batch[\"labels\"] = torch.tensor(batch[\"labels\"], dtype=torch.int64)\n"
     ]
    },
    {
     "name": "stdout",
     "output_type": "stream",
     "text": [
      "\n",
      "Evaluation Metrics:\n",
      "  - Validation Loss: 1.0884\n",
      "  - ROUGE-1: 0.2786\n",
      "  - ROUGE-2: 0.0885\n",
      "  - ROUGE-L: 0.2703\n",
      "  - BLEU: 0.3835\n",
      "  - METEOR: 0.4576\n",
      "  - Exact Match: 0.0000\n",
      "  - Prefix Accuracy: 0.8433\n",
      "==================================================\n",
      "\n"
     ]
    },
    {
     "name": "stderr",
     "output_type": "stream",
     "text": [
      "/Users/jasminavulovic/opt/anaconda3/envs/i2dl/lib/python3.10/site-packages/transformers/tokenization_utils_base.py:2718: UserWarning: `max_length` is ignored when `padding`=`True` and there is no truncation strategy. To pad to max length, use `padding='max_length'`.\n",
      "  warnings.warn(\n",
      "/Users/jasminavulovic/opt/anaconda3/envs/i2dl/lib/python3.10/site-packages/transformers/tokenization_utils_base.py:2718: UserWarning: `max_length` is ignored when `padding`=`True` and there is no truncation strategy. To pad to max length, use `padding='max_length'`.\n",
      "  warnings.warn(\n",
      "/Users/jasminavulovic/opt/anaconda3/envs/i2dl/lib/python3.10/site-packages/transformers/data/data_collator.py:741: UserWarning: Creating a tensor from a list of numpy.ndarrays is extremely slow. Please consider converting the list to a single numpy.ndarray with numpy.array() before converting to a tensor. (Triggered internally at /Users/runner/work/pytorch/pytorch/pytorch/torch/csrc/utils/tensor_new.cpp:278.)\n",
      "  batch[\"labels\"] = torch.tensor(batch[\"labels\"], dtype=torch.int64)\n",
      "/Users/jasminavulovic/opt/anaconda3/envs/i2dl/lib/python3.10/site-packages/transformers/data/data_collator.py:741: UserWarning: Creating a tensor from a list of numpy.ndarrays is extremely slow. Please consider converting the list to a single numpy.ndarray with numpy.array() before converting to a tensor. (Triggered internally at /Users/runner/work/pytorch/pytorch/pytorch/torch/csrc/utils/tensor_new.cpp:278.)\n",
      "  batch[\"labels\"] = torch.tensor(batch[\"labels\"], dtype=torch.int64)\n",
      "/Users/jasminavulovic/opt/anaconda3/envs/i2dl/lib/python3.10/site-packages/transformers/tokenization_utils_base.py:2718: UserWarning: `max_length` is ignored when `padding`=`True` and there is no truncation strategy. To pad to max length, use `padding='max_length'`.\n",
      "  warnings.warn(\n",
      "/Users/jasminavulovic/opt/anaconda3/envs/i2dl/lib/python3.10/site-packages/transformers/data/data_collator.py:741: UserWarning: Creating a tensor from a list of numpy.ndarrays is extremely slow. Please consider converting the list to a single numpy.ndarray with numpy.array() before converting to a tensor. (Triggered internally at /Users/runner/work/pytorch/pytorch/pytorch/torch/csrc/utils/tensor_new.cpp:278.)\n",
      "  batch[\"labels\"] = torch.tensor(batch[\"labels\"], dtype=torch.int64)\n",
      "/Users/jasminavulovic/opt/anaconda3/envs/i2dl/lib/python3.10/site-packages/transformers/tokenization_utils_base.py:2718: UserWarning: `max_length` is ignored when `padding`=`True` and there is no truncation strategy. To pad to max length, use `padding='max_length'`.\n",
      "  warnings.warn(\n",
      "/Users/jasminavulovic/opt/anaconda3/envs/i2dl/lib/python3.10/site-packages/transformers/data/data_collator.py:741: UserWarning: Creating a tensor from a list of numpy.ndarrays is extremely slow. Please consider converting the list to a single numpy.ndarray with numpy.array() before converting to a tensor. (Triggered internally at /Users/runner/work/pytorch/pytorch/pytorch/torch/csrc/utils/tensor_new.cpp:278.)\n",
      "  batch[\"labels\"] = torch.tensor(batch[\"labels\"], dtype=torch.int64)\n",
      "/Users/jasminavulovic/opt/anaconda3/envs/i2dl/lib/python3.10/site-packages/transformers/tokenization_utils_base.py:2718: UserWarning: `max_length` is ignored when `padding`=`True` and there is no truncation strategy. To pad to max length, use `padding='max_length'`.\n",
      "  warnings.warn(\n",
      "/Users/jasminavulovic/opt/anaconda3/envs/i2dl/lib/python3.10/site-packages/transformers/data/data_collator.py:741: UserWarning: Creating a tensor from a list of numpy.ndarrays is extremely slow. Please consider converting the list to a single numpy.ndarray with numpy.array() before converting to a tensor. (Triggered internally at /Users/runner/work/pytorch/pytorch/pytorch/torch/csrc/utils/tensor_new.cpp:278.)\n",
      "  batch[\"labels\"] = torch.tensor(batch[\"labels\"], dtype=torch.int64)\n",
      "/Users/jasminavulovic/opt/anaconda3/envs/i2dl/lib/python3.10/site-packages/transformers/tokenization_utils_base.py:2718: UserWarning: `max_length` is ignored when `padding`=`True` and there is no truncation strategy. To pad to max length, use `padding='max_length'`.\n",
      "  warnings.warn(\n",
      "/Users/jasminavulovic/opt/anaconda3/envs/i2dl/lib/python3.10/site-packages/transformers/tokenization_utils_base.py:2718: UserWarning: `max_length` is ignored when `padding`=`True` and there is no truncation strategy. To pad to max length, use `padding='max_length'`.\n",
      "  warnings.warn(\n",
      "/Users/jasminavulovic/opt/anaconda3/envs/i2dl/lib/python3.10/site-packages/transformers/data/data_collator.py:741: UserWarning: Creating a tensor from a list of numpy.ndarrays is extremely slow. Please consider converting the list to a single numpy.ndarray with numpy.array() before converting to a tensor. (Triggered internally at /Users/runner/work/pytorch/pytorch/pytorch/torch/csrc/utils/tensor_new.cpp:278.)\n",
      "  batch[\"labels\"] = torch.tensor(batch[\"labels\"], dtype=torch.int64)\n",
      "/Users/jasminavulovic/opt/anaconda3/envs/i2dl/lib/python3.10/site-packages/transformers/data/data_collator.py:741: UserWarning: Creating a tensor from a list of numpy.ndarrays is extremely slow. Please consider converting the list to a single numpy.ndarray with numpy.array() before converting to a tensor. (Triggered internally at /Users/runner/work/pytorch/pytorch/pytorch/torch/csrc/utils/tensor_new.cpp:278.)\n",
      "  batch[\"labels\"] = torch.tensor(batch[\"labels\"], dtype=torch.int64)\n",
      "/Users/jasminavulovic/opt/anaconda3/envs/i2dl/lib/python3.10/site-packages/transformers/tokenization_utils_base.py:2718: UserWarning: `max_length` is ignored when `padding`=`True` and there is no truncation strategy. To pad to max length, use `padding='max_length'`.\n",
      "  warnings.warn(\n",
      "/Users/jasminavulovic/opt/anaconda3/envs/i2dl/lib/python3.10/site-packages/transformers/data/data_collator.py:741: UserWarning: Creating a tensor from a list of numpy.ndarrays is extremely slow. Please consider converting the list to a single numpy.ndarray with numpy.array() before converting to a tensor. (Triggered internally at /Users/runner/work/pytorch/pytorch/pytorch/torch/csrc/utils/tensor_new.cpp:278.)\n",
      "  batch[\"labels\"] = torch.tensor(batch[\"labels\"], dtype=torch.int64)\n"
     ]
    },
    {
     "name": "stdout",
     "output_type": "stream",
     "text": [
      "Step 400 - Training Loss: 1.1655\n",
      "==================================================\n",
      "\n"
     ]
    },
    {
     "name": "stderr",
     "output_type": "stream",
     "text": [
      "/Users/jasminavulovic/opt/anaconda3/envs/i2dl/lib/python3.10/site-packages/transformers/tokenization_utils_base.py:2718: UserWarning: `max_length` is ignored when `padding`=`True` and there is no truncation strategy. To pad to max length, use `padding='max_length'`.\n",
      "  warnings.warn(\n",
      "/Users/jasminavulovic/opt/anaconda3/envs/i2dl/lib/python3.10/site-packages/transformers/tokenization_utils_base.py:2718: UserWarning: `max_length` is ignored when `padding`=`True` and there is no truncation strategy. To pad to max length, use `padding='max_length'`.\n",
      "  warnings.warn(\n",
      "/Users/jasminavulovic/opt/anaconda3/envs/i2dl/lib/python3.10/site-packages/transformers/tokenization_utils_base.py:2718: UserWarning: `max_length` is ignored when `padding`=`True` and there is no truncation strategy. To pad to max length, use `padding='max_length'`.\n",
      "  warnings.warn(\n",
      "/Users/jasminavulovic/opt/anaconda3/envs/i2dl/lib/python3.10/site-packages/transformers/data/data_collator.py:741: UserWarning: Creating a tensor from a list of numpy.ndarrays is extremely slow. Please consider converting the list to a single numpy.ndarray with numpy.array() before converting to a tensor. (Triggered internally at /Users/runner/work/pytorch/pytorch/pytorch/torch/csrc/utils/tensor_new.cpp:278.)\n",
      "  batch[\"labels\"] = torch.tensor(batch[\"labels\"], dtype=torch.int64)\n",
      "/Users/jasminavulovic/opt/anaconda3/envs/i2dl/lib/python3.10/site-packages/transformers/data/data_collator.py:741: UserWarning: Creating a tensor from a list of numpy.ndarrays is extremely slow. Please consider converting the list to a single numpy.ndarray with numpy.array() before converting to a tensor. (Triggered internally at /Users/runner/work/pytorch/pytorch/pytorch/torch/csrc/utils/tensor_new.cpp:278.)\n",
      "  batch[\"labels\"] = torch.tensor(batch[\"labels\"], dtype=torch.int64)\n",
      "/Users/jasminavulovic/opt/anaconda3/envs/i2dl/lib/python3.10/site-packages/transformers/data/data_collator.py:741: UserWarning: Creating a tensor from a list of numpy.ndarrays is extremely slow. Please consider converting the list to a single numpy.ndarray with numpy.array() before converting to a tensor. (Triggered internally at /Users/runner/work/pytorch/pytorch/pytorch/torch/csrc/utils/tensor_new.cpp:278.)\n",
      "  batch[\"labels\"] = torch.tensor(batch[\"labels\"], dtype=torch.int64)\n",
      "/Users/jasminavulovic/opt/anaconda3/envs/i2dl/lib/python3.10/site-packages/transformers/tokenization_utils_base.py:2718: UserWarning: `max_length` is ignored when `padding`=`True` and there is no truncation strategy. To pad to max length, use `padding='max_length'`.\n",
      "  warnings.warn(\n",
      "/Users/jasminavulovic/opt/anaconda3/envs/i2dl/lib/python3.10/site-packages/transformers/data/data_collator.py:741: UserWarning: Creating a tensor from a list of numpy.ndarrays is extremely slow. Please consider converting the list to a single numpy.ndarray with numpy.array() before converting to a tensor. (Triggered internally at /Users/runner/work/pytorch/pytorch/pytorch/torch/csrc/utils/tensor_new.cpp:278.)\n",
      "  batch[\"labels\"] = torch.tensor(batch[\"labels\"], dtype=torch.int64)\n"
     ]
    },
    {
     "name": "stdout",
     "output_type": "stream",
     "text": [
      "\n",
      "Evaluation Metrics:\n",
      "  - Validation Loss: 0.9860\n",
      "  - ROUGE-1: 0.2994\n",
      "  - ROUGE-2: 0.1029\n",
      "  - ROUGE-L: 0.2916\n",
      "  - BLEU: 0.3881\n",
      "  - METEOR: 0.4170\n",
      "  - Exact Match: 0.0100\n",
      "  - Prefix Accuracy: 0.1633\n",
      "==================================================\n",
      "\n"
     ]
    },
    {
     "name": "stderr",
     "output_type": "stream",
     "text": [
      "/Users/jasminavulovic/opt/anaconda3/envs/i2dl/lib/python3.10/site-packages/transformers/tokenization_utils_base.py:2718: UserWarning: `max_length` is ignored when `padding`=`True` and there is no truncation strategy. To pad to max length, use `padding='max_length'`.\n",
      "  warnings.warn(\n",
      "/Users/jasminavulovic/opt/anaconda3/envs/i2dl/lib/python3.10/site-packages/transformers/tokenization_utils_base.py:2718: UserWarning: `max_length` is ignored when `padding`=`True` and there is no truncation strategy. To pad to max length, use `padding='max_length'`.\n",
      "  warnings.warn(\n",
      "/Users/jasminavulovic/opt/anaconda3/envs/i2dl/lib/python3.10/site-packages/transformers/data/data_collator.py:741: UserWarning: Creating a tensor from a list of numpy.ndarrays is extremely slow. Please consider converting the list to a single numpy.ndarray with numpy.array() before converting to a tensor. (Triggered internally at /Users/runner/work/pytorch/pytorch/pytorch/torch/csrc/utils/tensor_new.cpp:278.)\n",
      "  batch[\"labels\"] = torch.tensor(batch[\"labels\"], dtype=torch.int64)\n",
      "/Users/jasminavulovic/opt/anaconda3/envs/i2dl/lib/python3.10/site-packages/transformers/data/data_collator.py:741: UserWarning: Creating a tensor from a list of numpy.ndarrays is extremely slow. Please consider converting the list to a single numpy.ndarray with numpy.array() before converting to a tensor. (Triggered internally at /Users/runner/work/pytorch/pytorch/pytorch/torch/csrc/utils/tensor_new.cpp:278.)\n",
      "  batch[\"labels\"] = torch.tensor(batch[\"labels\"], dtype=torch.int64)\n",
      "/Users/jasminavulovic/opt/anaconda3/envs/i2dl/lib/python3.10/site-packages/transformers/tokenization_utils_base.py:2718: UserWarning: `max_length` is ignored when `padding`=`True` and there is no truncation strategy. To pad to max length, use `padding='max_length'`.\n",
      "  warnings.warn(\n",
      "/Users/jasminavulovic/opt/anaconda3/envs/i2dl/lib/python3.10/site-packages/transformers/data/data_collator.py:741: UserWarning: Creating a tensor from a list of numpy.ndarrays is extremely slow. Please consider converting the list to a single numpy.ndarray with numpy.array() before converting to a tensor. (Triggered internally at /Users/runner/work/pytorch/pytorch/pytorch/torch/csrc/utils/tensor_new.cpp:278.)\n",
      "  batch[\"labels\"] = torch.tensor(batch[\"labels\"], dtype=torch.int64)\n",
      "/Users/jasminavulovic/opt/anaconda3/envs/i2dl/lib/python3.10/site-packages/transformers/tokenization_utils_base.py:2718: UserWarning: `max_length` is ignored when `padding`=`True` and there is no truncation strategy. To pad to max length, use `padding='max_length'`.\n",
      "  warnings.warn(\n",
      "/Users/jasminavulovic/opt/anaconda3/envs/i2dl/lib/python3.10/site-packages/transformers/data/data_collator.py:741: UserWarning: Creating a tensor from a list of numpy.ndarrays is extremely slow. Please consider converting the list to a single numpy.ndarray with numpy.array() before converting to a tensor. (Triggered internally at /Users/runner/work/pytorch/pytorch/pytorch/torch/csrc/utils/tensor_new.cpp:278.)\n",
      "  batch[\"labels\"] = torch.tensor(batch[\"labels\"], dtype=torch.int64)\n"
     ]
    },
    {
     "name": "stdout",
     "output_type": "stream",
     "text": [
      "Step 500 - Training Loss: 1.0682\n",
      "==================================================\n",
      "\n"
     ]
    },
    {
     "name": "stderr",
     "output_type": "stream",
     "text": [
      "/Users/jasminavulovic/opt/anaconda3/envs/i2dl/lib/python3.10/site-packages/transformers/tokenization_utils_base.py:2718: UserWarning: `max_length` is ignored when `padding`=`True` and there is no truncation strategy. To pad to max length, use `padding='max_length'`.\n",
      "  warnings.warn(\n",
      "/Users/jasminavulovic/opt/anaconda3/envs/i2dl/lib/python3.10/site-packages/transformers/tokenization_utils_base.py:2718: UserWarning: `max_length` is ignored when `padding`=`True` and there is no truncation strategy. To pad to max length, use `padding='max_length'`.\n",
      "  warnings.warn(\n",
      "/Users/jasminavulovic/opt/anaconda3/envs/i2dl/lib/python3.10/site-packages/transformers/data/data_collator.py:741: UserWarning: Creating a tensor from a list of numpy.ndarrays is extremely slow. Please consider converting the list to a single numpy.ndarray with numpy.array() before converting to a tensor. (Triggered internally at /Users/runner/work/pytorch/pytorch/pytorch/torch/csrc/utils/tensor_new.cpp:278.)\n",
      "  batch[\"labels\"] = torch.tensor(batch[\"labels\"], dtype=torch.int64)\n",
      "/Users/jasminavulovic/opt/anaconda3/envs/i2dl/lib/python3.10/site-packages/transformers/data/data_collator.py:741: UserWarning: Creating a tensor from a list of numpy.ndarrays is extremely slow. Please consider converting the list to a single numpy.ndarray with numpy.array() before converting to a tensor. (Triggered internally at /Users/runner/work/pytorch/pytorch/pytorch/torch/csrc/utils/tensor_new.cpp:278.)\n",
      "  batch[\"labels\"] = torch.tensor(batch[\"labels\"], dtype=torch.int64)\n",
      "/Users/jasminavulovic/opt/anaconda3/envs/i2dl/lib/python3.10/site-packages/transformers/tokenization_utils_base.py:2718: UserWarning: `max_length` is ignored when `padding`=`True` and there is no truncation strategy. To pad to max length, use `padding='max_length'`.\n",
      "  warnings.warn(\n",
      "/Users/jasminavulovic/opt/anaconda3/envs/i2dl/lib/python3.10/site-packages/transformers/data/data_collator.py:741: UserWarning: Creating a tensor from a list of numpy.ndarrays is extremely slow. Please consider converting the list to a single numpy.ndarray with numpy.array() before converting to a tensor. (Triggered internally at /Users/runner/work/pytorch/pytorch/pytorch/torch/csrc/utils/tensor_new.cpp:278.)\n",
      "  batch[\"labels\"] = torch.tensor(batch[\"labels\"], dtype=torch.int64)\n",
      "/Users/jasminavulovic/opt/anaconda3/envs/i2dl/lib/python3.10/site-packages/transformers/tokenization_utils_base.py:2718: UserWarning: `max_length` is ignored when `padding`=`True` and there is no truncation strategy. To pad to max length, use `padding='max_length'`.\n",
      "  warnings.warn(\n",
      "/Users/jasminavulovic/opt/anaconda3/envs/i2dl/lib/python3.10/site-packages/transformers/data/data_collator.py:741: UserWarning: Creating a tensor from a list of numpy.ndarrays is extremely slow. Please consider converting the list to a single numpy.ndarray with numpy.array() before converting to a tensor. (Triggered internally at /Users/runner/work/pytorch/pytorch/pytorch/torch/csrc/utils/tensor_new.cpp:278.)\n",
      "  batch[\"labels\"] = torch.tensor(batch[\"labels\"], dtype=torch.int64)\n"
     ]
    },
    {
     "name": "stdout",
     "output_type": "stream",
     "text": [
      "\n",
      "Evaluation Metrics:\n",
      "  - Validation Loss: 0.9410\n",
      "  - ROUGE-1: 0.2758\n",
      "  - ROUGE-2: 0.0856\n",
      "  - ROUGE-L: 0.2712\n",
      "  - BLEU: 0.3798\n",
      "  - METEOR: 0.4579\n",
      "  - Exact Match: 0.0067\n",
      "  - Prefix Accuracy: 0.8067\n",
      "==================================================\n",
      "\n"
     ]
    },
    {
     "name": "stderr",
     "output_type": "stream",
     "text": [
      "/Users/jasminavulovic/opt/anaconda3/envs/i2dl/lib/python3.10/site-packages/transformers/tokenization_utils_base.py:2718: UserWarning: `max_length` is ignored when `padding`=`True` and there is no truncation strategy. To pad to max length, use `padding='max_length'`.\n",
      "  warnings.warn(\n",
      "/Users/jasminavulovic/opt/anaconda3/envs/i2dl/lib/python3.10/site-packages/transformers/tokenization_utils_base.py:2718: UserWarning: `max_length` is ignored when `padding`=`True` and there is no truncation strategy. To pad to max length, use `padding='max_length'`.\n",
      "  warnings.warn(\n",
      "/Users/jasminavulovic/opt/anaconda3/envs/i2dl/lib/python3.10/site-packages/transformers/data/data_collator.py:741: UserWarning: Creating a tensor from a list of numpy.ndarrays is extremely slow. Please consider converting the list to a single numpy.ndarray with numpy.array() before converting to a tensor. (Triggered internally at /Users/runner/work/pytorch/pytorch/pytorch/torch/csrc/utils/tensor_new.cpp:278.)\n",
      "  batch[\"labels\"] = torch.tensor(batch[\"labels\"], dtype=torch.int64)\n",
      "/Users/jasminavulovic/opt/anaconda3/envs/i2dl/lib/python3.10/site-packages/transformers/data/data_collator.py:741: UserWarning: Creating a tensor from a list of numpy.ndarrays is extremely slow. Please consider converting the list to a single numpy.ndarray with numpy.array() before converting to a tensor. (Triggered internally at /Users/runner/work/pytorch/pytorch/pytorch/torch/csrc/utils/tensor_new.cpp:278.)\n",
      "  batch[\"labels\"] = torch.tensor(batch[\"labels\"], dtype=torch.int64)\n",
      "/Users/jasminavulovic/opt/anaconda3/envs/i2dl/lib/python3.10/site-packages/transformers/tokenization_utils_base.py:2718: UserWarning: `max_length` is ignored when `padding`=`True` and there is no truncation strategy. To pad to max length, use `padding='max_length'`.\n",
      "  warnings.warn(\n",
      "/Users/jasminavulovic/opt/anaconda3/envs/i2dl/lib/python3.10/site-packages/transformers/data/data_collator.py:741: UserWarning: Creating a tensor from a list of numpy.ndarrays is extremely slow. Please consider converting the list to a single numpy.ndarray with numpy.array() before converting to a tensor. (Triggered internally at /Users/runner/work/pytorch/pytorch/pytorch/torch/csrc/utils/tensor_new.cpp:278.)\n",
      "  batch[\"labels\"] = torch.tensor(batch[\"labels\"], dtype=torch.int64)\n",
      "/Users/jasminavulovic/opt/anaconda3/envs/i2dl/lib/python3.10/site-packages/transformers/tokenization_utils_base.py:2718: UserWarning: `max_length` is ignored when `padding`=`True` and there is no truncation strategy. To pad to max length, use `padding='max_length'`.\n",
      "  warnings.warn(\n",
      "/Users/jasminavulovic/opt/anaconda3/envs/i2dl/lib/python3.10/site-packages/transformers/data/data_collator.py:741: UserWarning: Creating a tensor from a list of numpy.ndarrays is extremely slow. Please consider converting the list to a single numpy.ndarray with numpy.array() before converting to a tensor. (Triggered internally at /Users/runner/work/pytorch/pytorch/pytorch/torch/csrc/utils/tensor_new.cpp:278.)\n",
      "  batch[\"labels\"] = torch.tensor(batch[\"labels\"], dtype=torch.int64)\n"
     ]
    },
    {
     "name": "stdout",
     "output_type": "stream",
     "text": [
      "Step 600 - Training Loss: 1.0345\n",
      "==================================================\n",
      "\n"
     ]
    },
    {
     "name": "stderr",
     "output_type": "stream",
     "text": [
      "/Users/jasminavulovic/opt/anaconda3/envs/i2dl/lib/python3.10/site-packages/transformers/tokenization_utils_base.py:2718: UserWarning: `max_length` is ignored when `padding`=`True` and there is no truncation strategy. To pad to max length, use `padding='max_length'`.\n",
      "  warnings.warn(\n",
      "/Users/jasminavulovic/opt/anaconda3/envs/i2dl/lib/python3.10/site-packages/transformers/tokenization_utils_base.py:2718: UserWarning: `max_length` is ignored when `padding`=`True` and there is no truncation strategy. To pad to max length, use `padding='max_length'`.\n",
      "  warnings.warn(\n",
      "/Users/jasminavulovic/opt/anaconda3/envs/i2dl/lib/python3.10/site-packages/transformers/data/data_collator.py:741: UserWarning: Creating a tensor from a list of numpy.ndarrays is extremely slow. Please consider converting the list to a single numpy.ndarray with numpy.array() before converting to a tensor. (Triggered internally at /Users/runner/work/pytorch/pytorch/pytorch/torch/csrc/utils/tensor_new.cpp:278.)\n",
      "  batch[\"labels\"] = torch.tensor(batch[\"labels\"], dtype=torch.int64)\n",
      "/Users/jasminavulovic/opt/anaconda3/envs/i2dl/lib/python3.10/site-packages/transformers/data/data_collator.py:741: UserWarning: Creating a tensor from a list of numpy.ndarrays is extremely slow. Please consider converting the list to a single numpy.ndarray with numpy.array() before converting to a tensor. (Triggered internally at /Users/runner/work/pytorch/pytorch/pytorch/torch/csrc/utils/tensor_new.cpp:278.)\n",
      "  batch[\"labels\"] = torch.tensor(batch[\"labels\"], dtype=torch.int64)\n",
      "/Users/jasminavulovic/opt/anaconda3/envs/i2dl/lib/python3.10/site-packages/transformers/tokenization_utils_base.py:2718: UserWarning: `max_length` is ignored when `padding`=`True` and there is no truncation strategy. To pad to max length, use `padding='max_length'`.\n",
      "  warnings.warn(\n",
      "/Users/jasminavulovic/opt/anaconda3/envs/i2dl/lib/python3.10/site-packages/transformers/data/data_collator.py:741: UserWarning: Creating a tensor from a list of numpy.ndarrays is extremely slow. Please consider converting the list to a single numpy.ndarray with numpy.array() before converting to a tensor. (Triggered internally at /Users/runner/work/pytorch/pytorch/pytorch/torch/csrc/utils/tensor_new.cpp:278.)\n",
      "  batch[\"labels\"] = torch.tensor(batch[\"labels\"], dtype=torch.int64)\n",
      "/Users/jasminavulovic/opt/anaconda3/envs/i2dl/lib/python3.10/site-packages/transformers/tokenization_utils_base.py:2718: UserWarning: `max_length` is ignored when `padding`=`True` and there is no truncation strategy. To pad to max length, use `padding='max_length'`.\n",
      "  warnings.warn(\n",
      "/Users/jasminavulovic/opt/anaconda3/envs/i2dl/lib/python3.10/site-packages/transformers/data/data_collator.py:741: UserWarning: Creating a tensor from a list of numpy.ndarrays is extremely slow. Please consider converting the list to a single numpy.ndarray with numpy.array() before converting to a tensor. (Triggered internally at /Users/runner/work/pytorch/pytorch/pytorch/torch/csrc/utils/tensor_new.cpp:278.)\n",
      "  batch[\"labels\"] = torch.tensor(batch[\"labels\"], dtype=torch.int64)\n"
     ]
    },
    {
     "name": "stdout",
     "output_type": "stream",
     "text": [
      "\n",
      "Evaluation Metrics:\n",
      "  - Validation Loss: 0.9216\n",
      "  - ROUGE-1: 0.2414\n",
      "  - ROUGE-2: 0.0668\n",
      "  - ROUGE-L: 0.2413\n",
      "  - BLEU: 0.3550\n",
      "  - METEOR: 0.4525\n",
      "  - Exact Match: 0.0033\n",
      "  - Prefix Accuracy: 0.2100\n",
      "==================================================\n",
      "\n"
     ]
    },
    {
     "name": "stderr",
     "output_type": "stream",
     "text": [
      "/Users/jasminavulovic/opt/anaconda3/envs/i2dl/lib/python3.10/site-packages/transformers/tokenization_utils_base.py:2718: UserWarning: `max_length` is ignored when `padding`=`True` and there is no truncation strategy. To pad to max length, use `padding='max_length'`.\n",
      "  warnings.warn(\n",
      "/Users/jasminavulovic/opt/anaconda3/envs/i2dl/lib/python3.10/site-packages/transformers/data/data_collator.py:741: UserWarning: Creating a tensor from a list of numpy.ndarrays is extremely slow. Please consider converting the list to a single numpy.ndarray with numpy.array() before converting to a tensor. (Triggered internally at /Users/runner/work/pytorch/pytorch/pytorch/torch/csrc/utils/tensor_new.cpp:278.)\n",
      "  batch[\"labels\"] = torch.tensor(batch[\"labels\"], dtype=torch.int64)\n",
      "/Users/jasminavulovic/opt/anaconda3/envs/i2dl/lib/python3.10/site-packages/transformers/tokenization_utils_base.py:2718: UserWarning: `max_length` is ignored when `padding`=`True` and there is no truncation strategy. To pad to max length, use `padding='max_length'`.\n",
      "  warnings.warn(\n",
      "/Users/jasminavulovic/opt/anaconda3/envs/i2dl/lib/python3.10/site-packages/transformers/tokenization_utils_base.py:2718: UserWarning: `max_length` is ignored when `padding`=`True` and there is no truncation strategy. To pad to max length, use `padding='max_length'`.\n",
      "  warnings.warn(\n",
      "/Users/jasminavulovic/opt/anaconda3/envs/i2dl/lib/python3.10/site-packages/transformers/data/data_collator.py:741: UserWarning: Creating a tensor from a list of numpy.ndarrays is extremely slow. Please consider converting the list to a single numpy.ndarray with numpy.array() before converting to a tensor. (Triggered internally at /Users/runner/work/pytorch/pytorch/pytorch/torch/csrc/utils/tensor_new.cpp:278.)\n",
      "  batch[\"labels\"] = torch.tensor(batch[\"labels\"], dtype=torch.int64)\n",
      "/Users/jasminavulovic/opt/anaconda3/envs/i2dl/lib/python3.10/site-packages/transformers/data/data_collator.py:741: UserWarning: Creating a tensor from a list of numpy.ndarrays is extremely slow. Please consider converting the list to a single numpy.ndarray with numpy.array() before converting to a tensor. (Triggered internally at /Users/runner/work/pytorch/pytorch/pytorch/torch/csrc/utils/tensor_new.cpp:278.)\n",
      "  batch[\"labels\"] = torch.tensor(batch[\"labels\"], dtype=torch.int64)\n",
      "/Users/jasminavulovic/opt/anaconda3/envs/i2dl/lib/python3.10/site-packages/transformers/tokenization_utils_base.py:2718: UserWarning: `max_length` is ignored when `padding`=`True` and there is no truncation strategy. To pad to max length, use `padding='max_length'`.\n",
      "  warnings.warn(\n",
      "/Users/jasminavulovic/opt/anaconda3/envs/i2dl/lib/python3.10/site-packages/transformers/data/data_collator.py:741: UserWarning: Creating a tensor from a list of numpy.ndarrays is extremely slow. Please consider converting the list to a single numpy.ndarray with numpy.array() before converting to a tensor. (Triggered internally at /Users/runner/work/pytorch/pytorch/pytorch/torch/csrc/utils/tensor_new.cpp:278.)\n",
      "  batch[\"labels\"] = torch.tensor(batch[\"labels\"], dtype=torch.int64)\n",
      "/Users/jasminavulovic/opt/anaconda3/envs/i2dl/lib/python3.10/site-packages/transformers/tokenization_utils_base.py:2718: UserWarning: `max_length` is ignored when `padding`=`True` and there is no truncation strategy. To pad to max length, use `padding='max_length'`.\n",
      "  warnings.warn(\n",
      "/Users/jasminavulovic/opt/anaconda3/envs/i2dl/lib/python3.10/site-packages/transformers/data/data_collator.py:741: UserWarning: Creating a tensor from a list of numpy.ndarrays is extremely slow. Please consider converting the list to a single numpy.ndarray with numpy.array() before converting to a tensor. (Triggered internally at /Users/runner/work/pytorch/pytorch/pytorch/torch/csrc/utils/tensor_new.cpp:278.)\n",
      "  batch[\"labels\"] = torch.tensor(batch[\"labels\"], dtype=torch.int64)\n",
      "/Users/jasminavulovic/opt/anaconda3/envs/i2dl/lib/python3.10/site-packages/transformers/tokenization_utils_base.py:2718: UserWarning: `max_length` is ignored when `padding`=`True` and there is no truncation strategy. To pad to max length, use `padding='max_length'`.\n",
      "  warnings.warn(\n",
      "/Users/jasminavulovic/opt/anaconda3/envs/i2dl/lib/python3.10/site-packages/transformers/tokenization_utils_base.py:2718: UserWarning: `max_length` is ignored when `padding`=`True` and there is no truncation strategy. To pad to max length, use `padding='max_length'`.\n",
      "  warnings.warn(\n",
      "/Users/jasminavulovic/opt/anaconda3/envs/i2dl/lib/python3.10/site-packages/transformers/data/data_collator.py:741: UserWarning: Creating a tensor from a list of numpy.ndarrays is extremely slow. Please consider converting the list to a single numpy.ndarray with numpy.array() before converting to a tensor. (Triggered internally at /Users/runner/work/pytorch/pytorch/pytorch/torch/csrc/utils/tensor_new.cpp:278.)\n",
      "  batch[\"labels\"] = torch.tensor(batch[\"labels\"], dtype=torch.int64)\n",
      "/Users/jasminavulovic/opt/anaconda3/envs/i2dl/lib/python3.10/site-packages/transformers/data/data_collator.py:741: UserWarning: Creating a tensor from a list of numpy.ndarrays is extremely slow. Please consider converting the list to a single numpy.ndarray with numpy.array() before converting to a tensor. (Triggered internally at /Users/runner/work/pytorch/pytorch/pytorch/torch/csrc/utils/tensor_new.cpp:278.)\n",
      "  batch[\"labels\"] = torch.tensor(batch[\"labels\"], dtype=torch.int64)\n",
      "/Users/jasminavulovic/opt/anaconda3/envs/i2dl/lib/python3.10/site-packages/transformers/tokenization_utils_base.py:2718: UserWarning: `max_length` is ignored when `padding`=`True` and there is no truncation strategy. To pad to max length, use `padding='max_length'`.\n",
      "  warnings.warn(\n",
      "/Users/jasminavulovic/opt/anaconda3/envs/i2dl/lib/python3.10/site-packages/transformers/data/data_collator.py:741: UserWarning: Creating a tensor from a list of numpy.ndarrays is extremely slow. Please consider converting the list to a single numpy.ndarray with numpy.array() before converting to a tensor. (Triggered internally at /Users/runner/work/pytorch/pytorch/pytorch/torch/csrc/utils/tensor_new.cpp:278.)\n",
      "  batch[\"labels\"] = torch.tensor(batch[\"labels\"], dtype=torch.int64)\n"
     ]
    },
    {
     "name": "stdout",
     "output_type": "stream",
     "text": [
      "Step 700 - Training Loss: 0.9864\n",
      "==================================================\n",
      "\n"
     ]
    },
    {
     "name": "stderr",
     "output_type": "stream",
     "text": [
      "/Users/jasminavulovic/opt/anaconda3/envs/i2dl/lib/python3.10/site-packages/transformers/tokenization_utils_base.py:2718: UserWarning: `max_length` is ignored when `padding`=`True` and there is no truncation strategy. To pad to max length, use `padding='max_length'`.\n",
      "  warnings.warn(\n",
      "/Users/jasminavulovic/opt/anaconda3/envs/i2dl/lib/python3.10/site-packages/transformers/tokenization_utils_base.py:2718: UserWarning: `max_length` is ignored when `padding`=`True` and there is no truncation strategy. To pad to max length, use `padding='max_length'`.\n",
      "  warnings.warn(\n",
      "/Users/jasminavulovic/opt/anaconda3/envs/i2dl/lib/python3.10/site-packages/transformers/tokenization_utils_base.py:2718: UserWarning: `max_length` is ignored when `padding`=`True` and there is no truncation strategy. To pad to max length, use `padding='max_length'`.\n",
      "  warnings.warn(\n",
      "/Users/jasminavulovic/opt/anaconda3/envs/i2dl/lib/python3.10/site-packages/transformers/data/data_collator.py:741: UserWarning: Creating a tensor from a list of numpy.ndarrays is extremely slow. Please consider converting the list to a single numpy.ndarray with numpy.array() before converting to a tensor. (Triggered internally at /Users/runner/work/pytorch/pytorch/pytorch/torch/csrc/utils/tensor_new.cpp:278.)\n",
      "  batch[\"labels\"] = torch.tensor(batch[\"labels\"], dtype=torch.int64)\n",
      "/Users/jasminavulovic/opt/anaconda3/envs/i2dl/lib/python3.10/site-packages/transformers/data/data_collator.py:741: UserWarning: Creating a tensor from a list of numpy.ndarrays is extremely slow. Please consider converting the list to a single numpy.ndarray with numpy.array() before converting to a tensor. (Triggered internally at /Users/runner/work/pytorch/pytorch/pytorch/torch/csrc/utils/tensor_new.cpp:278.)\n",
      "  batch[\"labels\"] = torch.tensor(batch[\"labels\"], dtype=torch.int64)\n",
      "/Users/jasminavulovic/opt/anaconda3/envs/i2dl/lib/python3.10/site-packages/transformers/data/data_collator.py:741: UserWarning: Creating a tensor from a list of numpy.ndarrays is extremely slow. Please consider converting the list to a single numpy.ndarray with numpy.array() before converting to a tensor. (Triggered internally at /Users/runner/work/pytorch/pytorch/pytorch/torch/csrc/utils/tensor_new.cpp:278.)\n",
      "  batch[\"labels\"] = torch.tensor(batch[\"labels\"], dtype=torch.int64)\n",
      "/Users/jasminavulovic/opt/anaconda3/envs/i2dl/lib/python3.10/site-packages/transformers/tokenization_utils_base.py:2718: UserWarning: `max_length` is ignored when `padding`=`True` and there is no truncation strategy. To pad to max length, use `padding='max_length'`.\n",
      "  warnings.warn(\n",
      "/Users/jasminavulovic/opt/anaconda3/envs/i2dl/lib/python3.10/site-packages/transformers/data/data_collator.py:741: UserWarning: Creating a tensor from a list of numpy.ndarrays is extremely slow. Please consider converting the list to a single numpy.ndarray with numpy.array() before converting to a tensor. (Triggered internally at /Users/runner/work/pytorch/pytorch/pytorch/torch/csrc/utils/tensor_new.cpp:278.)\n",
      "  batch[\"labels\"] = torch.tensor(batch[\"labels\"], dtype=torch.int64)\n"
     ]
    },
    {
     "name": "stdout",
     "output_type": "stream",
     "text": [
      "\n",
      "Evaluation Metrics:\n",
      "  - Validation Loss: 0.9153\n",
      "  - ROUGE-1: 0.2586\n",
      "  - ROUGE-2: 0.0666\n",
      "  - ROUGE-L: 0.2575\n",
      "  - BLEU: 0.3709\n",
      "  - METEOR: 0.4446\n",
      "  - Exact Match: 0.0100\n",
      "  - Prefix Accuracy: 0.7433\n",
      "==================================================\n",
      "\n"
     ]
    },
    {
     "name": "stderr",
     "output_type": "stream",
     "text": [
      "/Users/jasminavulovic/opt/anaconda3/envs/i2dl/lib/python3.10/site-packages/transformers/tokenization_utils_base.py:2718: UserWarning: `max_length` is ignored when `padding`=`True` and there is no truncation strategy. To pad to max length, use `padding='max_length'`.\n",
      "  warnings.warn(\n",
      "/Users/jasminavulovic/opt/anaconda3/envs/i2dl/lib/python3.10/site-packages/transformers/tokenization_utils_base.py:2718: UserWarning: `max_length` is ignored when `padding`=`True` and there is no truncation strategy. To pad to max length, use `padding='max_length'`.\n",
      "  warnings.warn(\n",
      "/Users/jasminavulovic/opt/anaconda3/envs/i2dl/lib/python3.10/site-packages/transformers/data/data_collator.py:741: UserWarning: Creating a tensor from a list of numpy.ndarrays is extremely slow. Please consider converting the list to a single numpy.ndarray with numpy.array() before converting to a tensor. (Triggered internally at /Users/runner/work/pytorch/pytorch/pytorch/torch/csrc/utils/tensor_new.cpp:278.)\n",
      "  batch[\"labels\"] = torch.tensor(batch[\"labels\"], dtype=torch.int64)\n",
      "/Users/jasminavulovic/opt/anaconda3/envs/i2dl/lib/python3.10/site-packages/transformers/data/data_collator.py:741: UserWarning: Creating a tensor from a list of numpy.ndarrays is extremely slow. Please consider converting the list to a single numpy.ndarray with numpy.array() before converting to a tensor. (Triggered internally at /Users/runner/work/pytorch/pytorch/pytorch/torch/csrc/utils/tensor_new.cpp:278.)\n",
      "  batch[\"labels\"] = torch.tensor(batch[\"labels\"], dtype=torch.int64)\n",
      "/Users/jasminavulovic/opt/anaconda3/envs/i2dl/lib/python3.10/site-packages/transformers/tokenization_utils_base.py:2718: UserWarning: `max_length` is ignored when `padding`=`True` and there is no truncation strategy. To pad to max length, use `padding='max_length'`.\n",
      "  warnings.warn(\n",
      "/Users/jasminavulovic/opt/anaconda3/envs/i2dl/lib/python3.10/site-packages/transformers/data/data_collator.py:741: UserWarning: Creating a tensor from a list of numpy.ndarrays is extremely slow. Please consider converting the list to a single numpy.ndarray with numpy.array() before converting to a tensor. (Triggered internally at /Users/runner/work/pytorch/pytorch/pytorch/torch/csrc/utils/tensor_new.cpp:278.)\n",
      "  batch[\"labels\"] = torch.tensor(batch[\"labels\"], dtype=torch.int64)\n",
      "/Users/jasminavulovic/opt/anaconda3/envs/i2dl/lib/python3.10/site-packages/transformers/tokenization_utils_base.py:2718: UserWarning: `max_length` is ignored when `padding`=`True` and there is no truncation strategy. To pad to max length, use `padding='max_length'`.\n",
      "  warnings.warn(\n",
      "/Users/jasminavulovic/opt/anaconda3/envs/i2dl/lib/python3.10/site-packages/transformers/data/data_collator.py:741: UserWarning: Creating a tensor from a list of numpy.ndarrays is extremely slow. Please consider converting the list to a single numpy.ndarray with numpy.array() before converting to a tensor. (Triggered internally at /Users/runner/work/pytorch/pytorch/pytorch/torch/csrc/utils/tensor_new.cpp:278.)\n",
      "  batch[\"labels\"] = torch.tensor(batch[\"labels\"], dtype=torch.int64)\n"
     ]
    },
    {
     "data": {
      "text/plain": "<IPython.core.display.HTML object>",
      "text/html": "\n    <div>\n      \n      <progress value='1' max='38' style='width:300px; height:20px; vertical-align: middle;'></progress>\n      [ 1/38 : < :]\n    </div>\n    "
     },
     "metadata": {},
     "output_type": "display_data"
    },
    {
     "name": "stdout",
     "output_type": "stream",
     "text": [
      "\n",
      "Evaluation Metrics:\n",
      "  - Validation Loss: 0.9129\n",
      "  - ROUGE-1: 0.2611\n",
      "  - ROUGE-2: 0.0694\n",
      "  - ROUGE-L: 0.2589\n",
      "  - BLEU: 0.3721\n",
      "  - METEOR: 0.4476\n",
      "  - Exact Match: 0.0067\n",
      "  - Prefix Accuracy: 0.7700\n",
      "==================================================\n",
      "\n",
      "\n",
      "Final Benchmark Results: {'eval_loss': 0.9129166007041931, 'eval_rouge1': 0.26105172605172666, 'eval_rouge2': 0.06936447811447807, 'eval_rougeL': 0.2588596588596592, 'eval_rougeLsum': 0.2590016372516377, 'eval_bleu': 0.372124427563325, 'eval_meteor': 0.44756966925335706, 'eval_exact_match': 0.006666666666666667, 'eval_prefix_accuracy': 0.77, 'eval_runtime': 116.255, 'eval_samples_per_second': 2.581, 'eval_steps_per_second': 0.327, 'epoch': 10.0}\n"
     ]
    }
   ],
   "source": [
    "train_history = trainer.train()\n",
    "benchmark_results = trainer.evaluate()\n",
    "print(\"\\nFinal Benchmark Results:\", benchmark_results)"
   ],
   "metadata": {
    "collapsed": false
   }
  },
  {
   "cell_type": "markdown",
   "source": [
    "## 8. Loss Visualization\n",
    "\n",
    "This section plots the training and evaluation losses over time to visualize the model's progress during training.\n",
    "\n",
    "- **Logging History:**\n",
    "  - The `trainer.state.log_history` contains the logged information during training, including both training and evaluation losses at each logging step.\n",
    "\n",
    "- **Loss Extraction:**\n",
    "  - The `train_loss` list is created by extracting the \"loss\" values from the log history.\n",
    "  - The `eval_loss` list is created by extracting the \"eval_loss\" values from the log history.\n",
    "\n",
    "- **Plotting Losses:**\n",
    "  - Using `matplotlib`, the training and evaluation losses are plotted on the same graph with labels for each curve.\n",
    "  - A legend is added to differentiate between the training loss and evaluation loss curves.\n"
   ],
   "metadata": {
    "collapsed": false
   }
  },
  {
   "cell_type": "code",
   "execution_count": 160,
   "outputs": [
    {
     "data": {
      "text/plain": "<Figure size 1000x600 with 1 Axes>",
      "image/png": "[encoded data removed]"
     },
     "metadata": {},
     "output_type": "display_data"
    }
   ],
   "source": [
    "import matplotlib.pyplot as plt\n",
    "# Extract loss data\n",
    "log_history = trainer.state.log_history\n",
    "train_loss = [x[\"loss\"] for x in log_history if \"loss\" in x]\n",
    "eval_loss = [x[\"eval_loss\"] for x in log_history if \"eval_loss\" in x]\n",
    "\n",
    "# Plot losses\n",
    "plt.figure(figsize=(10, 6))\n",
    "plt.plot(train_loss, label=\"Train Loss\", color='b', linestyle='-')\n",
    "plt.plot(eval_loss, label=\"Eval Loss\", color='r', linestyle='--')\n",
    "\n",
    "# Customize plot\n",
    "plt.title(\"Training and Evaluation Loss Over Time\", fontsize=16)\n",
    "plt.xlabel(\"Steps\", fontsize=12)\n",
    "plt.ylabel(\"Loss\", fontsize=12)\n",
    "plt.legend()\n",
    "plt.grid(True)\n",
    "\n",
    "# Show the plot\n",
    "plt.show()"
   ],
   "metadata": {
    "collapsed": false
   }
  },
  {
   "cell_type": "markdown",
   "source": [
    "## 8.1 Interpreting Loss Results:\n",
    "- **General Trend:** The training loss steadily decreases over time. It starts from around 4.59 at the first checkpoint (step 100), and then it gradually reduces to approx 0.91 by step 750. This indicates that the model is learning, and the training process is going well.\n",
    "- **Observation:** The loss reduction is consistent but not overly steep, which says that the model is converging steadily. The amount of loss reduction seems reasonable, and we see no abrupt jumps or stalls, which means stable training.\n",
    "\n",
    "## Evaluation Loss:\n",
    "- **General Trend:** The evaluation loss follows a similar pattern to the training loss, steadily decreasing from 2.18 at step 100 to 0.91 at step 750. The evaluation loss starts higher than the training loss, which is expected as the model has not yet been optimized for validation data.\n",
    "- **Observation:** The evaluation loss is consistently lower than the training loss, and the gap seems to narrow over time. This indicates that the model is not overfitting and is improving its generalization on unseen data. The steady decrease in eval loss says that our training has been effective.\n",
    "\n",
    "## Overall Performance Evaluation:\n",
    "- **Is it good or bad?**\n",
    "    - The model shows positive progress in both training and evaluation. The consistent reduction in loss indicates that the model is learning.\n",
    "    - Evaluation loss is decreasing, which is a good sign of the model’s generalization ability on unseen data.\n",
    "    - The model isn't overfitting at this point (we can see this in the narrowing gap between training and evaluation losses).\n",
    "    - Training loss is relatively higher than eval loss at first, which is typical early on, and both losses converge as training progresses.\n",
    "\n",
    "In conclusion, the model is performing well with steady improvements across the training and evaluation metrics. It seems to be learning and generalizing effectively, with no obvious signs of overfitting or poor performance. It’s on a good track.\n",
    "\n",
    "However, it still did learn on a small amount of synthetic data, which is the biggest limitation."
   ],
   "metadata": {
    "collapsed": false
   }
  },
  {
   "cell_type": "code",
   "execution_count": 161,
   "outputs": [
    {
     "name": "stdout",
     "output_type": "stream",
     "text": [
      "{'loss': 4.5899, 'grad_norm': 3.3043837547302246, 'learning_rate': 2e-05, 'epoch': 1.3333333333333333, 'step': 100}\n",
      "{'eval_loss': 2.182636022567749, 'eval_rouge1': 0.3116821141821148, 'eval_rouge2': 0.09205615680615672, 'eval_rougeL': 0.2996458078958086, 'eval_rougeLsum': 0.3001898841898848, 'eval_bleu': 0.36916405539999375, 'eval_meteor': 0.46296235104976197, 'eval_exact_match': 0.0, 'eval_prefix_accuracy': 0.7166666666666667, 'eval_runtime': 138.4395, 'eval_samples_per_second': 2.167, 'eval_steps_per_second': 0.274, 'epoch': 1.3333333333333333, 'step': 100}\n",
      "{'loss': 1.8091, 'grad_norm': 3.6181418895721436, 'learning_rate': 1.6923076923076924e-05, 'epoch': 2.6666666666666665, 'step': 200}\n",
      "{'eval_loss': 1.3257628679275513, 'eval_rouge1': 0.30959403559403625, 'eval_rouge2': 0.0976904761904761, 'eval_rougeL': 0.2940618085618093, 'eval_rougeLsum': 0.29355363155363223, 'eval_bleu': 0.3869527354848642, 'eval_meteor': 0.46730895924234744, 'eval_exact_match': 0.01, 'eval_prefix_accuracy': 0.4666666666666667, 'eval_runtime': 129.7084, 'eval_samples_per_second': 2.313, 'eval_steps_per_second': 0.293, 'epoch': 2.6666666666666665, 'step': 200}\n",
      "{'loss': 1.3529, 'grad_norm': 3.4442145824432373, 'learning_rate': 1.3846153846153847e-05, 'epoch': 4.0, 'step': 300}\n",
      "{'eval_loss': 1.088436484336853, 'eval_rouge1': 0.2785698005698013, 'eval_rouge2': 0.08854244829244823, 'eval_rougeL': 0.27030037555037645, 'eval_rougeLsum': 0.270115967365968, 'eval_bleu': 0.3835002309343012, 'eval_meteor': 0.45760241281994884, 'eval_exact_match': 0.0, 'eval_prefix_accuracy': 0.8433333333333334, 'eval_runtime': 139.576, 'eval_samples_per_second': 2.149, 'eval_steps_per_second': 0.272, 'epoch': 4.0, 'step': 300}\n",
      "{'loss': 1.1655, 'grad_norm': 3.4255261421203613, 'learning_rate': 1.076923076923077e-05, 'epoch': 5.333333333333333, 'step': 400}\n",
      "{'eval_loss': 0.9860421419143677, 'eval_rouge1': 0.299412763162764, 'eval_rouge2': 0.10294480519480509, 'eval_rougeL': 0.2916407388907396, 'eval_rougeLsum': 0.2916742424242431, 'eval_bleu': 0.3881123594436029, 'eval_meteor': 0.4169721536497175, 'eval_exact_match': 0.01, 'eval_prefix_accuracy': 0.16333333333333333, 'eval_runtime': 129.5164, 'eval_samples_per_second': 2.316, 'eval_steps_per_second': 0.293, 'epoch': 5.333333333333333, 'step': 400}\n",
      "{'loss': 1.0682, 'grad_norm': 3.323680877685547, 'learning_rate': 7.692307692307694e-06, 'epoch': 6.666666666666667, 'step': 500}\n",
      "{'eval_loss': 0.9410291910171509, 'eval_rouge1': 0.2758039368039371, 'eval_rouge2': 0.08562650312650306, 'eval_rougeL': 0.27118915343915395, 'eval_rougeLsum': 0.2715237447737453, 'eval_bleu': 0.37984881846413615, 'eval_meteor': 0.4579304557175328, 'eval_exact_match': 0.006666666666666667, 'eval_prefix_accuracy': 0.8066666666666666, 'eval_runtime': 117.6014, 'eval_samples_per_second': 2.551, 'eval_steps_per_second': 0.323, 'epoch': 6.666666666666667, 'step': 500}\n",
      "{'loss': 1.0345, 'grad_norm': 3.2978036403656006, 'learning_rate': 4.615384615384616e-06, 'epoch': 8.0, 'step': 600}\n",
      "{'eval_loss': 0.9215975403785706, 'eval_rouge1': 0.2413928848928853, 'eval_rouge2': 0.06680976430976432, 'eval_rougeL': 0.2413147870647874, 'eval_rougeLsum': 0.24159192659192696, 'eval_bleu': 0.3549988631180603, 'eval_meteor': 0.45254206354997045, 'eval_exact_match': 0.0033333333333333335, 'eval_prefix_accuracy': 0.21, 'eval_runtime': 123.0785, 'eval_samples_per_second': 2.437, 'eval_steps_per_second': 0.309, 'epoch': 8.0, 'step': 600}\n",
      "{'loss': 0.9864, 'grad_norm': 2.7173237800598145, 'learning_rate': 1.5384615384615387e-06, 'epoch': 9.333333333333334, 'step': 700}\n",
      "{'eval_loss': 0.9152664542198181, 'eval_rouge1': 0.25860659710659784, 'eval_rouge2': 0.066554834054834, 'eval_rougeL': 0.25746295371295425, 'eval_rougeLsum': 0.25775962925962986, 'eval_bleu': 0.37087733598798317, 'eval_meteor': 0.4446252284095985, 'eval_exact_match': 0.01, 'eval_prefix_accuracy': 0.7433333333333333, 'eval_runtime': 115.5079, 'eval_samples_per_second': 2.597, 'eval_steps_per_second': 0.329, 'epoch': 9.333333333333334, 'step': 700}\n",
      "{'eval_loss': 0.9129166007041931, 'eval_rouge1': 0.26105172605172666, 'eval_rouge2': 0.06936447811447807, 'eval_rougeL': 0.2588596588596592, 'eval_rougeLsum': 0.2590016372516377, 'eval_bleu': 0.372124427563325, 'eval_meteor': 0.44756966925335706, 'eval_exact_match': 0.006666666666666667, 'eval_prefix_accuracy': 0.77, 'eval_runtime': 116.255, 'eval_samples_per_second': 2.581, 'eval_steps_per_second': 0.327, 'epoch': 10.0, 'step': 750}\n"
     ]
    }
   ],
   "source": [
    "# Print the log history containing training and validation loss\n",
    "for log in trainer.state.log_history:\n",
    "    if 'loss' in log or 'eval_loss' in log:\n",
    "        print(log)"
   ],
   "metadata": {
    "collapsed": false
   }
  },
  {
   "cell_type": "markdown",
   "source": [
    "## 8.2 Interpreting Metrics Results\n",
    "1. **BLEU**:\n",
    "    * BLEU focuses on exact n-gram matches, and the scores of 0.35 to 0.39 say that the model is effectively learning to generate text that aligns well with the reference. While there's room to refine this further, the increase in BLEU scores over time shows that the model is improving in its ability to produce more accurate and fluent outputs.\n",
    "\n",
    "2. **METEOR**:\n",
    "    * METEOR combines diverse factors like n-gram precision, synonymy, and stemming. The scores ranging from 0.42 to 0.47 show that the model is already doing a solid job of generating semantically meaningful and contextually relevant text. The consistent scores also indicate that the model is becoming more adept at understanding the nuances of language, which is a great sign of progress.\n",
    "\n",
    "3. **ROUGE-2**:\n",
    "    * ROUGE-2 measures the overlap of bigrams between the predicted and reference texts. While the values range from 0.066 to 0.102, the model is showing a steady increase over time. Like in the previous case, this gradual improvement suggests that the model is learning to capture better word pairs, and with more training, we can expect this to continue to improve.\n",
    "\n",
    "\n",
    "4. **Exact-Prefix-Matching**:\n",
    "    * This metric seems to be struggling the most, as we can tell by the constant jumps. However, near the end of the training, it begins to stabilize. It reaches a solid-enough number as well.\n",
    "\n",
    "The main reason why the model may be struggling is due to the synthetic data, as well as the small amount to train on. Even with these big limitations, the model seems to learn well. Providing the model with better data to train on will yield even better results. Most importantly, we do not overfit, we have a steady decrease in loss, and we converge well. The generalization on this synthetic data seems decent, as well as the overall fine-tuning.\n"
   ],
   "metadata": {
    "collapsed": false
   }
  },
  {
   "cell_type": "code",
   "execution_count": 164,
   "outputs": [
    {
     "data": {
      "text/plain": "<Figure size 1000x600 with 1 Axes>",
      "image/png": "[encoded data removed]"
     },
     "metadata": {},
     "output_type": "display_data"
    }
   ],
   "source": [
    "import matplotlib.pyplot as plt\n",
    "\n",
    "log_history = trainer.state.log_history\n",
    "rouge2 = [x[\"eval_rouge2\"] for x in log_history if \"eval_rouge2\" in x]\n",
    "eval_meteor = [x[\"eval_meteor\"] for x in log_history if \"eval_meteor\" in x]\n",
    "eval_bleu = [x[\"eval_bleu\"] for x in log_history if \"eval_bleu\" in x]\n",
    "eval_prefix_accuracy = [x[\"eval_prefix_accuracy\"] for x in log_history if \"eval_prefix_accuracy\" in x]\n",
    "\n",
    "# Plotting the metrics\n",
    "plt.figure(figsize=(10, 6))\n",
    "plt.plot(rouge2, label=\"ROUGE-2\", linestyle=\"--\", color='purple')\n",
    "plt.plot(eval_meteor, label=\"Eval METEOR\", linestyle='-.', color='orange')\n",
    "plt.plot(eval_prefix_accuracy, label=\"Eval Prefix Accuracy\", linestyle=':', color='red')\n",
    "plt.plot(eval_bleu, label=\"Eval BLEU\", linestyle='dotted', color='blue')\n",
    "\n",
    "# Adding labels and title\n",
    "plt.xlabel(\"Epochs\")\n",
    "plt.ylabel(\"Scores\")\n",
    "plt.title(\"Training and Evaluation Metrics over Epochs (Excluding Losses)\")\n",
    "plt.legend()\n",
    "plt.grid(True)\n",
    "plt.tight_layout()\n",
    "\n",
    "# Show plot\n",
    "plt.show()\n"
   ],
   "metadata": {
    "collapsed": false
   }
  }
 ],
 "metadata": {
  "kernelspec": {
   "display_name": "Python 3",
   "language": "python",
   "name": "python3"
  },
  "language_info": {
   "codemirror_mode": {
    "name": "ipython",
    "version": 2
   },
   "file_extension": ".py",
   "mimetype": "text/x-python",
   "name": "python",
   "nbconvert_exporter": "python",
   "pygments_lexer": "ipython2",
   "version": "2.7.6"
  }
 },
 "nbformat": 4,
 "nbformat_minor": 0
}
